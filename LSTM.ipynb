{
  "cells": [
    {
      "cell_type": "markdown",
      "metadata": {
        "id": "view-in-github",
        "colab_type": "text"
      },
      "source": [
        "<a href=\"https://colab.research.google.com/github/23subbhashit/IIITB-ML/blob/main/LSTM.ipynb\" target=\"_parent\"><img src=\"https://colab.research.google.com/assets/colab-badge.svg\" alt=\"Open In Colab\"/></a>"
      ]
    },
    {
      "cell_type": "code",
      "execution_count": 18,
      "metadata": {
        "id": "2Tdb6f-JXmb8",
        "colab": {
          "base_uri": "https://localhost:8080/"
        },
        "outputId": "ff89dd01-823f-4a71-f1e1-dc45b8d34532"
      },
      "outputs": [
        {
          "output_type": "stream",
          "name": "stdout",
          "text": [
            "Drive already mounted at /content/drive; to attempt to forcibly remount, call drive.mount(\"/content/drive\", force_remount=True).\n",
            "Drive already mounted at /content/drive; to attempt to forcibly remount, call drive.mount(\"/content/drive\", force_remount=True).\n"
          ]
        }
      ],
      "source": [
        "from google.colab import drive\n",
        "drive.mount('/content/drive')"
      ]
    },
    {
      "cell_type": "code",
      "execution_count": 19,
      "metadata": {
        "id": "USiSErXsXnvV"
      },
      "outputs": [],
      "source": [
        "import pandas as pd\n",
        "\n",
        "df = pd.read_csv('/content/drive/MyDrive/ML IIITB/train.csv')\n",
        "df = df.dropna(subset=['rating', 'review_text'])"
      ]
    },
    {
      "cell_type": "code",
      "execution_count": 20,
      "metadata": {
        "colab": {
          "base_uri": "https://localhost:8080/"
        },
        "id": "lSqe2ncBXp9T",
        "outputId": "3fa0db7d-3cf6-4b6d-be41-9f882e9a21cd"
      },
      "outputs": [
        {
          "output_type": "stream",
          "name": "stderr",
          "text": [
            "[nltk_data] Downloading package punkt to /root/nltk_data...\n",
            "[nltk_data]   Package punkt is already up-to-date!\n",
            "[nltk_data] Downloading package stopwords to /root/nltk_data...\n",
            "[nltk_data]   Package stopwords is already up-to-date!\n",
            "[nltk_data] Downloading package wordnet to /root/nltk_data...\n",
            "[nltk_data]   Package wordnet is already up-to-date!\n",
            "[nltk_data] Downloading package averaged_perceptron_tagger to\n",
            "[nltk_data]     /root/nltk_data...\n",
            "[nltk_data]   Package averaged_perceptron_tagger is already up-to-\n",
            "[nltk_data]       date!\n",
            "  0%|          | 62/630000 [00:00<34:39, 302.93it/s]<ipython-input-20-4e973d915820>:27: MarkupResemblesLocatorWarning: The input looks more like a filename than markup. You may want to open this file and pass the filehandle into Beautiful Soup.\n",
            "  text = BeautifulSoup(text, \"html.parser\").get_text() # Remove HTML tags\n",
            "100%|██████████| 630000/630000 [19:50<00:00, 529.26it/s]\n"
          ]
        }
      ],
      "source": [
        "from bs4 import BeautifulSoup\n",
        "import unicodedata\n",
        "import re\n",
        "import string\n",
        "import nltk\n",
        "from nltk.corpus import stopwords\n",
        "from nltk.tokenize import word_tokenize\n",
        "from nltk.stem import WordNetLemmatizer\n",
        "from tqdm import tqdm\n",
        "from imblearn.over_sampling import RandomOverSampler\n",
        "import pandas as pd\n",
        "\n",
        "\n",
        "nltk.download('punkt')\n",
        "nltk.download('stopwords')\n",
        "nltk.download('wordnet')\n",
        "nltk.download('averaged_perceptron_tagger')\n",
        "from nltk.corpus import wordnet\n",
        "\n",
        "\n",
        "\n",
        "def preprocess_text(text):\n",
        "\n",
        "    text = text.lower() # Convert to lowercase\n",
        "\n",
        "\n",
        "    text = BeautifulSoup(text, \"html.parser\").get_text() # Remove HTML tags\n",
        "\n",
        "    # Remove numbers, punctuation, and special characters\n",
        "    text = re.sub(r'\\d+', '', text)\n",
        "    text = text.translate(str.maketrans('', '', string.punctuation))\n",
        "\n",
        "\n",
        "    words = word_tokenize(text) # Tokenization (split the text into words)\n",
        "\n",
        "\n",
        "    stop_words = set(stopwords.words('english')) # Remove stop words\n",
        "    words = [word for word in words if word not in stop_words]\n",
        "\n",
        "\n",
        "    lemmatizer = WordNetLemmatizer() # Lemmatization (using WordNet Lemmatizer)\n",
        "    words = [lemmatizer.lemmatize(word) for word in words]\n",
        "\n",
        "\n",
        "    processed_text = ' '.join(words) # Join the words back into a single string\n",
        "\n",
        "    return processed_text\n",
        "\n",
        "\n",
        "tqdm.pandas()\n",
        "\n",
        "\n",
        "df['review_text'] = df['review_text'].progress_apply(preprocess_text)"
      ]
    },
    {
      "cell_type": "code",
      "execution_count": 21,
      "metadata": {
        "colab": {
          "base_uri": "https://localhost:8080/"
        },
        "id": "YroK8o1_di1t",
        "outputId": "c31a5528-edc9-4d82-fd5b-9bf622a47635"
      },
      "outputs": [
        {
          "output_type": "stream",
          "name": "stdout",
          "text": [
            "TOKENIZER START\n",
            "TOKENIZER END\n",
            "PADDING START\n",
            "PADDING END\n"
          ]
        }
      ],
      "source": [
        "import pandas as pd\n",
        "from sklearn.model_selection import train_test_split\n",
        "from sklearn.metrics import accuracy_score\n",
        "from tensorflow.keras.preprocessing.text import Tokenizer\n",
        "from tensorflow.keras.preprocessing.sequence import pad_sequences\n",
        "from tensorflow.keras.models import Sequential\n",
        "from tensorflow.keras.layers import Embedding, LSTM, Dense\n",
        "from tensorflow.keras.layers import Embedding, LSTM, Dense, Dropout\n",
        "\n",
        "\n",
        "\n",
        "train_data, test_data = train_test_split(df[['review_text', 'rating']], test_size=0.2, random_state=42)\n",
        "\n",
        "\n",
        "max_words = 5000  # Maximum number of words to keep\n",
        "max_len = 100  # Maximum sequence length\n",
        "embedding_dim = 100  # Embedding dimension\n",
        "\n",
        "tokenizer = Tokenizer(num_words=max_words, oov_token='<OOV>')\n",
        "tokenizer.fit_on_texts(train_data['review_text'])\n",
        "word_index = tokenizer.word_index\n",
        "print(\"TOKENIZER START\")\n",
        "train_sequences = tokenizer.texts_to_sequences(train_data['review_text'])\n",
        "test_sequences = tokenizer.texts_to_sequences(test_data['review_text'])\n",
        "print(\"TOKENIZER END\")\n",
        "print(\"PADDING START\")\n",
        "X_train = pad_sequences(train_sequences, maxlen=max_len)\n",
        "X_test = pad_sequences(test_sequences, maxlen=max_len)\n",
        "print(\"PADDING END\")"
      ]
    },
    {
      "cell_type": "code",
      "execution_count": 22,
      "metadata": {
        "id": "6mgKwQvpFj4k",
        "colab": {
          "base_uri": "https://localhost:8080/"
        },
        "outputId": "344ea74b-a28c-43d8-c1ab-f2d84a503b61"
      },
      "outputs": [
        {
          "output_type": "stream",
          "name": "stdout",
          "text": [
            "MODEL START\n"
          ]
        }
      ],
      "source": [
        "print(\"MODEL START\")\n",
        "\n",
        "model = Sequential()\n",
        "model.add(Embedding(max_words, embedding_dim, input_length=max_len))\n",
        "model.add(LSTM(128))\n",
        "model.add(Dense(6, activation='softmax'))\n",
        "\n",
        "model.compile(optimizer='adam', loss='sparse_categorical_crossentropy', metrics=['accuracy'])"
      ]
    },
    {
      "cell_type": "code",
      "execution_count": 23,
      "metadata": {
        "colab": {
          "base_uri": "https://localhost:8080/"
        },
        "id": "upH14xj3Fsc2",
        "outputId": "cc05be69-e8db-4ea0-c7b9-fa2eeff8fa4c"
      },
      "outputs": [
        {
          "output_type": "stream",
          "name": "stdout",
          "text": [
            "Epoch 1/5\n",
            "6300/6300 [==============================] - 1589s 252ms/step - loss: 1.1448 - accuracy: 0.5076 - val_loss: 1.0868 - val_accuracy: 0.5340\n",
            "Epoch 2/5\n",
            "6300/6300 [==============================] - 1657s 263ms/step - loss: 1.0618 - accuracy: 0.5447 - val_loss: 1.0709 - val_accuracy: 0.5400\n",
            "Epoch 3/5\n",
            "6300/6300 [==============================] - 1617s 257ms/step - loss: 1.0273 - accuracy: 0.5605 - val_loss: 1.0637 - val_accuracy: 0.5444\n",
            "Epoch 4/5\n",
            "6300/6300 [==============================] - 1618s 257ms/step - loss: 0.9972 - accuracy: 0.5747 - val_loss: 1.0702 - val_accuracy: 0.5424\n",
            "Epoch 5/5\n",
            "6300/6300 [==============================] - 1642s 261ms/step - loss: 0.9660 - accuracy: 0.5894 - val_loss: 1.0730 - val_accuracy: 0.5429\n",
            "3938/3938 [==============================] - 232s 59ms/step\n",
            "Accuracy: 54.62%\n"
          ]
        }
      ],
      "source": [
        "\n",
        "y_train = train_data['rating'].values\n",
        "model.fit(X_train, y_train, epochs=5, batch_size=64, validation_split=0.2)\n",
        "\n",
        "\n",
        "y_test = test_data['rating'].values\n",
        "y_pred = model.predict(X_test)\n",
        "predictions = [int(round(pred.argmax())) for pred in y_pred]\n",
        "\n",
        "\n",
        "accuracy = accuracy_score(y_test, predictions)\n",
        "print(f'Accuracy: {accuracy * 100:.2f}%')"
      ]
    },
    {
      "cell_type": "code",
      "execution_count": 24,
      "metadata": {
        "id": "7d9u2I0HdpK_",
        "colab": {
          "base_uri": "https://localhost:8080/"
        },
        "outputId": "d9e4ee9e-f54d-4024-896e-fa043ac95401"
      },
      "outputs": [
        {
          "output_type": "stream",
          "name": "stderr",
          "text": [
            "/usr/local/lib/python3.10/dist-packages/keras/src/engine/training.py:3079: UserWarning: You are saving your model as an HDF5 file via `model.save()`. This file format is considered legacy. We recommend using instead the native Keras format, e.g. `model.save('my_model.keras')`.\n",
            "  saving_api.save_model(\n"
          ]
        }
      ],
      "source": [
        "model.save('/content/drive/MyDrive/ML IIITB/MODEL1.h5')"
      ]
    },
    {
      "cell_type": "markdown",
      "metadata": {
        "id": "dLuutun4167R"
      },
      "source": [
        "# TEST"
      ]
    },
    {
      "cell_type": "code",
      "execution_count": 25,
      "metadata": {
        "id": "8wr5YKh-15o1",
        "colab": {
          "base_uri": "https://localhost:8080/",
          "height": 573
        },
        "outputId": "0e73921b-38de-4709-b025-e3e89bf08cb1"
      },
      "outputs": [
        {
          "output_type": "execute_result",
          "data": {
            "text/plain": [
              "                            user_id   book_id  \\\n",
              "0  de3a6a28c83cda006b415d45d64674c9      1618   \n",
              "1  d9cfab35a87e32084b1817dfb0e98748  15776309   \n",
              "2  24935a870a46525a37be92775ab18f76    478927   \n",
              "3  6ccb40eabdd0db7895aac00963256469     22628   \n",
              "4  9f9d0f6e9a6a5797a252ef81abc9421c  13596809   \n",
              "\n",
              "                          review_id  \\\n",
              "0  d76ce5becf493e5c653610edb806ffc4   \n",
              "1  9c5c9aed79255a1a610dfc153ee90ad6   \n",
              "2  ad26332459cda8f40581fef7a29b800c   \n",
              "3  5bb75768be7f2ddcd632336778b67f5a   \n",
              "4  3d7f76ea566b9ce0700772236094d936   \n",
              "\n",
              "                                         review_text  \\\n",
              "0  I'm going to keep this review short, because I...   \n",
              "1  You know, I was really stoked to see this come...   \n",
              "2  This is one of those books where you know you ...   \n",
              "3  The perks of being a wallflower \\n What does a...   \n",
              "4  So, I wrote a review for this when I read it b...   \n",
              "\n",
              "                       date_added                    date_updated  \\\n",
              "0  Tue Jun 09 10:37:48 -0700 2015  Wed Jun 10 13:43:38 -0700 2015   \n",
              "1  Mon Apr 22 09:19:40 -0700 2013  Wed Jul 10 14:34:27 -0700 2013   \n",
              "2  Sat Mar 14 12:16:55 -0700 2015  Sun Apr 05 11:25:00 -0700 2015   \n",
              "3  Sat Sep 12 08:43:30 -0700 2015  Sat Sep 12 09:19:29 -0700 2015   \n",
              "4  Sun Jul 14 19:36:13 -0700 2013  Thu Jun 02 16:45:45 -0700 2016   \n",
              "\n",
              "                          read_at                      started_at  n_votes  \\\n",
              "0  Wed Jun 10 14:08:39 -0700 2015  Tue Jun 09 00:00:00 -0700 2015        8   \n",
              "1  Wed Jul 10 14:34:27 -0700 2013  Tue Jul 09 00:00:00 -0700 2013        0   \n",
              "2  Wed Mar 18 00:00:00 -0700 2015  Sat Mar 14 00:00:00 -0700 2015       14   \n",
              "3                             NaN                             NaN        0   \n",
              "4  Sat Mar 23 00:00:00 -0700 2013                             NaN        0   \n",
              "\n",
              "   n_comments  \n",
              "0           0  \n",
              "1           0  \n",
              "2           0  \n",
              "3           0  \n",
              "4           0  "
            ],
            "text/html": [
              "\n",
              "  <div id=\"df-7d003f0d-ed3a-4236-9347-12512b4d64eb\" class=\"colab-df-container\">\n",
              "    <div>\n",
              "<style scoped>\n",
              "    .dataframe tbody tr th:only-of-type {\n",
              "        vertical-align: middle;\n",
              "    }\n",
              "\n",
              "    .dataframe tbody tr th {\n",
              "        vertical-align: top;\n",
              "    }\n",
              "\n",
              "    .dataframe thead th {\n",
              "        text-align: right;\n",
              "    }\n",
              "</style>\n",
              "<table border=\"1\" class=\"dataframe\">\n",
              "  <thead>\n",
              "    <tr style=\"text-align: right;\">\n",
              "      <th></th>\n",
              "      <th>user_id</th>\n",
              "      <th>book_id</th>\n",
              "      <th>review_id</th>\n",
              "      <th>review_text</th>\n",
              "      <th>date_added</th>\n",
              "      <th>date_updated</th>\n",
              "      <th>read_at</th>\n",
              "      <th>started_at</th>\n",
              "      <th>n_votes</th>\n",
              "      <th>n_comments</th>\n",
              "    </tr>\n",
              "  </thead>\n",
              "  <tbody>\n",
              "    <tr>\n",
              "      <th>0</th>\n",
              "      <td>de3a6a28c83cda006b415d45d64674c9</td>\n",
              "      <td>1618</td>\n",
              "      <td>d76ce5becf493e5c653610edb806ffc4</td>\n",
              "      <td>I'm going to keep this review short, because I...</td>\n",
              "      <td>Tue Jun 09 10:37:48 -0700 2015</td>\n",
              "      <td>Wed Jun 10 13:43:38 -0700 2015</td>\n",
              "      <td>Wed Jun 10 14:08:39 -0700 2015</td>\n",
              "      <td>Tue Jun 09 00:00:00 -0700 2015</td>\n",
              "      <td>8</td>\n",
              "      <td>0</td>\n",
              "    </tr>\n",
              "    <tr>\n",
              "      <th>1</th>\n",
              "      <td>d9cfab35a87e32084b1817dfb0e98748</td>\n",
              "      <td>15776309</td>\n",
              "      <td>9c5c9aed79255a1a610dfc153ee90ad6</td>\n",
              "      <td>You know, I was really stoked to see this come...</td>\n",
              "      <td>Mon Apr 22 09:19:40 -0700 2013</td>\n",
              "      <td>Wed Jul 10 14:34:27 -0700 2013</td>\n",
              "      <td>Wed Jul 10 14:34:27 -0700 2013</td>\n",
              "      <td>Tue Jul 09 00:00:00 -0700 2013</td>\n",
              "      <td>0</td>\n",
              "      <td>0</td>\n",
              "    </tr>\n",
              "    <tr>\n",
              "      <th>2</th>\n",
              "      <td>24935a870a46525a37be92775ab18f76</td>\n",
              "      <td>478927</td>\n",
              "      <td>ad26332459cda8f40581fef7a29b800c</td>\n",
              "      <td>This is one of those books where you know you ...</td>\n",
              "      <td>Sat Mar 14 12:16:55 -0700 2015</td>\n",
              "      <td>Sun Apr 05 11:25:00 -0700 2015</td>\n",
              "      <td>Wed Mar 18 00:00:00 -0700 2015</td>\n",
              "      <td>Sat Mar 14 00:00:00 -0700 2015</td>\n",
              "      <td>14</td>\n",
              "      <td>0</td>\n",
              "    </tr>\n",
              "    <tr>\n",
              "      <th>3</th>\n",
              "      <td>6ccb40eabdd0db7895aac00963256469</td>\n",
              "      <td>22628</td>\n",
              "      <td>5bb75768be7f2ddcd632336778b67f5a</td>\n",
              "      <td>The perks of being a wallflower \\n What does a...</td>\n",
              "      <td>Sat Sep 12 08:43:30 -0700 2015</td>\n",
              "      <td>Sat Sep 12 09:19:29 -0700 2015</td>\n",
              "      <td>NaN</td>\n",
              "      <td>NaN</td>\n",
              "      <td>0</td>\n",
              "      <td>0</td>\n",
              "    </tr>\n",
              "    <tr>\n",
              "      <th>4</th>\n",
              "      <td>9f9d0f6e9a6a5797a252ef81abc9421c</td>\n",
              "      <td>13596809</td>\n",
              "      <td>3d7f76ea566b9ce0700772236094d936</td>\n",
              "      <td>So, I wrote a review for this when I read it b...</td>\n",
              "      <td>Sun Jul 14 19:36:13 -0700 2013</td>\n",
              "      <td>Thu Jun 02 16:45:45 -0700 2016</td>\n",
              "      <td>Sat Mar 23 00:00:00 -0700 2013</td>\n",
              "      <td>NaN</td>\n",
              "      <td>0</td>\n",
              "      <td>0</td>\n",
              "    </tr>\n",
              "  </tbody>\n",
              "</table>\n",
              "</div>\n",
              "    <div class=\"colab-df-buttons\">\n",
              "\n",
              "  <div class=\"colab-df-container\">\n",
              "    <button class=\"colab-df-convert\" onclick=\"convertToInteractive('df-7d003f0d-ed3a-4236-9347-12512b4d64eb')\"\n",
              "            title=\"Convert this dataframe to an interactive table.\"\n",
              "            style=\"display:none;\">\n",
              "\n",
              "  <svg xmlns=\"http://www.w3.org/2000/svg\" height=\"24px\" viewBox=\"0 -960 960 960\">\n",
              "    <path d=\"M120-120v-720h720v720H120Zm60-500h600v-160H180v160Zm220 220h160v-160H400v160Zm0 220h160v-160H400v160ZM180-400h160v-160H180v160Zm440 0h160v-160H620v160ZM180-180h160v-160H180v160Zm440 0h160v-160H620v160Z\"/>\n",
              "  </svg>\n",
              "    </button>\n",
              "\n",
              "  <style>\n",
              "    .colab-df-container {\n",
              "      display:flex;\n",
              "      gap: 12px;\n",
              "    }\n",
              "\n",
              "    .colab-df-convert {\n",
              "      background-color: #E8F0FE;\n",
              "      border: none;\n",
              "      border-radius: 50%;\n",
              "      cursor: pointer;\n",
              "      display: none;\n",
              "      fill: #1967D2;\n",
              "      height: 32px;\n",
              "      padding: 0 0 0 0;\n",
              "      width: 32px;\n",
              "    }\n",
              "\n",
              "    .colab-df-convert:hover {\n",
              "      background-color: #E2EBFA;\n",
              "      box-shadow: 0px 1px 2px rgba(60, 64, 67, 0.3), 0px 1px 3px 1px rgba(60, 64, 67, 0.15);\n",
              "      fill: #174EA6;\n",
              "    }\n",
              "\n",
              "    .colab-df-buttons div {\n",
              "      margin-bottom: 4px;\n",
              "    }\n",
              "\n",
              "    [theme=dark] .colab-df-convert {\n",
              "      background-color: #3B4455;\n",
              "      fill: #D2E3FC;\n",
              "    }\n",
              "\n",
              "    [theme=dark] .colab-df-convert:hover {\n",
              "      background-color: #434B5C;\n",
              "      box-shadow: 0px 1px 3px 1px rgba(0, 0, 0, 0.15);\n",
              "      filter: drop-shadow(0px 1px 2px rgba(0, 0, 0, 0.3));\n",
              "      fill: #FFFFFF;\n",
              "    }\n",
              "  </style>\n",
              "\n",
              "    <script>\n",
              "      const buttonEl =\n",
              "        document.querySelector('#df-7d003f0d-ed3a-4236-9347-12512b4d64eb button.colab-df-convert');\n",
              "      buttonEl.style.display =\n",
              "        google.colab.kernel.accessAllowed ? 'block' : 'none';\n",
              "\n",
              "      async function convertToInteractive(key) {\n",
              "        const element = document.querySelector('#df-7d003f0d-ed3a-4236-9347-12512b4d64eb');\n",
              "        const dataTable =\n",
              "          await google.colab.kernel.invokeFunction('convertToInteractive',\n",
              "                                                    [key], {});\n",
              "        if (!dataTable) return;\n",
              "\n",
              "        const docLinkHtml = 'Like what you see? Visit the ' +\n",
              "          '<a target=\"_blank\" href=https://colab.research.google.com/notebooks/data_table.ipynb>data table notebook</a>'\n",
              "          + ' to learn more about interactive tables.';\n",
              "        element.innerHTML = '';\n",
              "        dataTable['output_type'] = 'display_data';\n",
              "        await google.colab.output.renderOutput(dataTable, element);\n",
              "        const docLink = document.createElement('div');\n",
              "        docLink.innerHTML = docLinkHtml;\n",
              "        element.appendChild(docLink);\n",
              "      }\n",
              "    </script>\n",
              "  </div>\n",
              "\n",
              "\n",
              "<div id=\"df-9e5bb74e-ba04-45b1-9124-b499d6095549\">\n",
              "  <button class=\"colab-df-quickchart\" onclick=\"quickchart('df-9e5bb74e-ba04-45b1-9124-b499d6095549')\"\n",
              "            title=\"Suggest charts\"\n",
              "            style=\"display:none;\">\n",
              "\n",
              "<svg xmlns=\"http://www.w3.org/2000/svg\" height=\"24px\"viewBox=\"0 0 24 24\"\n",
              "     width=\"24px\">\n",
              "    <g>\n",
              "        <path d=\"M19 3H5c-1.1 0-2 .9-2 2v14c0 1.1.9 2 2 2h14c1.1 0 2-.9 2-2V5c0-1.1-.9-2-2-2zM9 17H7v-7h2v7zm4 0h-2V7h2v10zm4 0h-2v-4h2v4z\"/>\n",
              "    </g>\n",
              "</svg>\n",
              "  </button>\n",
              "\n",
              "<style>\n",
              "  .colab-df-quickchart {\n",
              "      --bg-color: #E8F0FE;\n",
              "      --fill-color: #1967D2;\n",
              "      --hover-bg-color: #E2EBFA;\n",
              "      --hover-fill-color: #174EA6;\n",
              "      --disabled-fill-color: #AAA;\n",
              "      --disabled-bg-color: #DDD;\n",
              "  }\n",
              "\n",
              "  [theme=dark] .colab-df-quickchart {\n",
              "      --bg-color: #3B4455;\n",
              "      --fill-color: #D2E3FC;\n",
              "      --hover-bg-color: #434B5C;\n",
              "      --hover-fill-color: #FFFFFF;\n",
              "      --disabled-bg-color: #3B4455;\n",
              "      --disabled-fill-color: #666;\n",
              "  }\n",
              "\n",
              "  .colab-df-quickchart {\n",
              "    background-color: var(--bg-color);\n",
              "    border: none;\n",
              "    border-radius: 50%;\n",
              "    cursor: pointer;\n",
              "    display: none;\n",
              "    fill: var(--fill-color);\n",
              "    height: 32px;\n",
              "    padding: 0;\n",
              "    width: 32px;\n",
              "  }\n",
              "\n",
              "  .colab-df-quickchart:hover {\n",
              "    background-color: var(--hover-bg-color);\n",
              "    box-shadow: 0 1px 2px rgba(60, 64, 67, 0.3), 0 1px 3px 1px rgba(60, 64, 67, 0.15);\n",
              "    fill: var(--button-hover-fill-color);\n",
              "  }\n",
              "\n",
              "  .colab-df-quickchart-complete:disabled,\n",
              "  .colab-df-quickchart-complete:disabled:hover {\n",
              "    background-color: var(--disabled-bg-color);\n",
              "    fill: var(--disabled-fill-color);\n",
              "    box-shadow: none;\n",
              "  }\n",
              "\n",
              "  .colab-df-spinner {\n",
              "    border: 2px solid var(--fill-color);\n",
              "    border-color: transparent;\n",
              "    border-bottom-color: var(--fill-color);\n",
              "    animation:\n",
              "      spin 1s steps(1) infinite;\n",
              "  }\n",
              "\n",
              "  @keyframes spin {\n",
              "    0% {\n",
              "      border-color: transparent;\n",
              "      border-bottom-color: var(--fill-color);\n",
              "      border-left-color: var(--fill-color);\n",
              "    }\n",
              "    20% {\n",
              "      border-color: transparent;\n",
              "      border-left-color: var(--fill-color);\n",
              "      border-top-color: var(--fill-color);\n",
              "    }\n",
              "    30% {\n",
              "      border-color: transparent;\n",
              "      border-left-color: var(--fill-color);\n",
              "      border-top-color: var(--fill-color);\n",
              "      border-right-color: var(--fill-color);\n",
              "    }\n",
              "    40% {\n",
              "      border-color: transparent;\n",
              "      border-right-color: var(--fill-color);\n",
              "      border-top-color: var(--fill-color);\n",
              "    }\n",
              "    60% {\n",
              "      border-color: transparent;\n",
              "      border-right-color: var(--fill-color);\n",
              "    }\n",
              "    80% {\n",
              "      border-color: transparent;\n",
              "      border-right-color: var(--fill-color);\n",
              "      border-bottom-color: var(--fill-color);\n",
              "    }\n",
              "    90% {\n",
              "      border-color: transparent;\n",
              "      border-bottom-color: var(--fill-color);\n",
              "    }\n",
              "  }\n",
              "</style>\n",
              "\n",
              "  <script>\n",
              "    async function quickchart(key) {\n",
              "      const quickchartButtonEl =\n",
              "        document.querySelector('#' + key + ' button');\n",
              "      quickchartButtonEl.disabled = true;  // To prevent multiple clicks.\n",
              "      quickchartButtonEl.classList.add('colab-df-spinner');\n",
              "      try {\n",
              "        const charts = await google.colab.kernel.invokeFunction(\n",
              "            'suggestCharts', [key], {});\n",
              "      } catch (error) {\n",
              "        console.error('Error during call to suggestCharts:', error);\n",
              "      }\n",
              "      quickchartButtonEl.classList.remove('colab-df-spinner');\n",
              "      quickchartButtonEl.classList.add('colab-df-quickchart-complete');\n",
              "    }\n",
              "    (() => {\n",
              "      let quickchartButtonEl =\n",
              "        document.querySelector('#df-9e5bb74e-ba04-45b1-9124-b499d6095549 button');\n",
              "      quickchartButtonEl.style.display =\n",
              "        google.colab.kernel.accessAllowed ? 'block' : 'none';\n",
              "    })();\n",
              "  </script>\n",
              "</div>\n",
              "    </div>\n",
              "  </div>\n"
            ]
          },
          "metadata": {},
          "execution_count": 25
        }
      ],
      "source": [
        "test_df = pd.read_csv('/content/drive/MyDrive/ML IIITB/test.csv')\n",
        "test_df = test_df.dropna(subset=['review_text'])\n",
        "test_df.head()"
      ]
    },
    {
      "cell_type": "code",
      "execution_count": 26,
      "metadata": {
        "id": "rziyyF-a2AwY",
        "colab": {
          "base_uri": "https://localhost:8080/"
        },
        "outputId": "fd36b8bc-ac92-45ea-b8e6-3339b6e0d035"
      },
      "outputs": [
        {
          "output_type": "stream",
          "name": "stdout",
          "text": [
            "<class 'pandas.core.frame.DataFrame'>\n",
            "RangeIndex: 270000 entries, 0 to 269999\n",
            "Data columns (total 10 columns):\n",
            " #   Column        Non-Null Count   Dtype \n",
            "---  ------        --------------   ----- \n",
            " 0   user_id       270000 non-null  object\n",
            " 1   book_id       270000 non-null  int64 \n",
            " 2   review_id     270000 non-null  object\n",
            " 3   review_text   270000 non-null  object\n",
            " 4   date_added    270000 non-null  object\n",
            " 5   date_updated  270000 non-null  object\n",
            " 6   read_at       242459 non-null  object\n",
            " 7   started_at    187740 non-null  object\n",
            " 8   n_votes       270000 non-null  int64 \n",
            " 9   n_comments    270000 non-null  int64 \n",
            "dtypes: int64(3), object(7)\n",
            "memory usage: 20.6+ MB\n"
          ]
        }
      ],
      "source": [
        "test_df.info()"
      ]
    },
    {
      "cell_type": "code",
      "execution_count": 27,
      "metadata": {
        "id": "jUfysCAY2EJQ",
        "colab": {
          "base_uri": "https://localhost:8080/"
        },
        "outputId": "86a4b9e5-c568-4bba-ec2a-af80de450beb"
      },
      "outputs": [
        {
          "output_type": "stream",
          "name": "stderr",
          "text": [
            "  0%|          | 35/270000 [00:00<12:58, 346.87it/s]<ipython-input-20-4e973d915820>:27: MarkupResemblesLocatorWarning: The input looks more like a filename than markup. You may want to open this file and pass the filehandle into Beautiful Soup.\n",
            "  text = BeautifulSoup(text, \"html.parser\").get_text() # Remove HTML tags\n",
            "100%|██████████| 270000/270000 [08:41<00:00, 517.31it/s]\n"
          ]
        }
      ],
      "source": [
        "tqdm.pandas()\n",
        "test_df['review_text'] = test_df['review_text'].progress_apply(preprocess_text)"
      ]
    },
    {
      "cell_type": "code",
      "execution_count": 28,
      "metadata": {
        "id": "iUZyrpo_2G0-",
        "colab": {
          "base_uri": "https://localhost:8080/"
        },
        "outputId": "38da451b-6c38-4c5a-991d-b1bab33a170b"
      },
      "outputs": [
        {
          "output_type": "stream",
          "name": "stdout",
          "text": [
            "8438/8438 [==============================] - 510s 60ms/step\n"
          ]
        }
      ],
      "source": [
        "import pandas as pd\n",
        "from tensorflow.keras.preprocessing.text import Tokenizer\n",
        "from tensorflow.keras.preprocessing.sequence import pad_sequences\n",
        "from tensorflow.keras.models import load_model\n",
        "\n",
        "\n",
        "loaded_model = load_model('/content/drive/MyDrive/ML IIITB/MODEL1.h5')\n",
        "\n",
        "max_words = 5000\n",
        "max_len = 100\n",
        "\n",
        "\n",
        "test_sequences = tokenizer.texts_to_sequences(test_df['review_text'])\n",
        "X_test = pad_sequences(test_sequences, maxlen=max_len)\n",
        "\n",
        "y_pred_prob = loaded_model.predict(X_test)\n",
        "predictions = [int(round(pred.argmax())) for pred in y_pred_prob]"
      ]
    },
    {
      "cell_type": "code",
      "execution_count": 29,
      "metadata": {
        "id": "Jz_eMBY1B5v7",
        "colab": {
          "base_uri": "https://localhost:8080/"
        },
        "outputId": "91dec9df-d962-4147-8765-b8106e9cc56e"
      },
      "outputs": [
        {
          "output_type": "execute_result",
          "data": {
            "text/plain": [
              "270000"
            ]
          },
          "metadata": {},
          "execution_count": 29
        }
      ],
      "source": [
        "len(predictions)"
      ]
    },
    {
      "cell_type": "code",
      "execution_count": 30,
      "metadata": {
        "id": "NkIT8gtZ4kyO"
      },
      "outputs": [],
      "source": [
        "result_df = pd.DataFrame({\n",
        "    'review_id': test_df['review_id'],\n",
        "    'rating': predictions\n",
        "})\n",
        "\n",
        "\n",
        "result_df.to_csv('/content/drive/MyDrive/ML IIITB/predic22.csv', index=False, columns=[\"review_id\", \"rating\"])"
      ]
    },
    {
      "cell_type": "code",
      "source": [],
      "metadata": {
        "id": "LyP-qlRcz-6Q"
      },
      "execution_count": null,
      "outputs": []
    }
  ],
  "metadata": {
    "colab": {
      "provenance": [],
      "authorship_tag": "ABX9TyO/XmBxmNuw/8YbVYuBA0cu",
      "include_colab_link": true
    },
    "kernelspec": {
      "display_name": "Python 3",
      "name": "python3"
    },
    "language_info": {
      "name": "python"
    }
  },
  "nbformat": 4,
  "nbformat_minor": 0
}