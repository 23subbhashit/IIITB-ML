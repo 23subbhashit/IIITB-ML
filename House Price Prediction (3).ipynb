{
 "cells": [
  {
   "cell_type": "code",
   "execution_count": null,
   "id": "3c98f3ff",
   "metadata": {},
   "outputs": [],
   "source": [
    "import numpy as np\n",
    "import pandas as pd"
   ]
  },
  {
   "cell_type": "code",
   "execution_count": null,
   "id": "833d9a60",
   "metadata": {},
   "outputs": [],
   "source": [
    "data = pd.read_csv(\"C:/Users/Lenovo/Downloads/Assignment2_q2_dataset.csv\")\n",
    "data.head()"
   ]
  },
  {
   "cell_type": "code",
   "execution_count": null,
   "id": "bc95b278",
   "metadata": {},
   "outputs": [],
   "source": [
    "data.info()"
   ]
  },
  {
   "cell_type": "code",
   "execution_count": null,
   "id": "ad744e6b",
   "metadata": {},
   "outputs": [],
   "source": [
    "data = data.drop(['id', 'Date'], axis=1)"
   ]
  },
  {
   "cell_type": "code",
   "execution_count": null,
   "id": "aad783dc",
   "metadata": {},
   "outputs": [],
   "source": [
    "X = data.drop('Price', axis=1).values\n",
    "y = data['Price'].values.reshape(-1, 1)"
   ]
  },
  {
   "cell_type": "code",
   "execution_count": null,
   "id": "f50dc157",
   "metadata": {},
   "outputs": [],
   "source": [
    "X_mean, X_std = np.mean(X, axis=0), np.std(X, axis=0)\n",
    "X = (X - X_mean) / X_std"
   ]
  },
  {
   "cell_type": "code",
   "execution_count": null,
   "id": "6de3d50b",
   "metadata": {},
   "outputs": [],
   "source": [
    "y_mean, y_std = np.mean(y), np.std(y)\n",
    "y = (y - y_mean) / y_std"
   ]
  },
  {
   "cell_type": "code",
   "execution_count": 8,
   "id": "715cc56e",
   "metadata": {},
   "outputs": [],
   "source": [
    "split_ratio = 0.8\n",
    "split_index = int(split_ratio * len(X))\n",
    "\n",
    "X_train, X_test = X[:split_index], X[split_index:]\n",
    "y_train, y_test = y[:split_index], y[split_index:]"
   ]
  },
  {
   "cell_type": "code",
   "execution_count": 9,
   "id": "2b8f7876",
   "metadata": {},
   "outputs": [],
   "source": [
    "input_size = X_train.shape[1]\n",
    "hidden_size = 32\n",
    "output_size = 1\n",
    "learning_rate = 0.0001\n",
    "epochs = 1000"
   ]
  },
  {
   "cell_type": "code",
   "execution_count": 10,
   "id": "79c388e6",
   "metadata": {},
   "outputs": [],
   "source": [
    "weights_1 = np.random.randn(input_size, hidden_size) * 0.01\n",
    "biases_1 = np.zeros((1, hidden_size))\n",
    "weights_2 = np.random.randn(hidden_size, output_size) * 0.01\n",
    "biases_2 = np.zeros((1, output_size))"
   ]
  },
  {
   "cell_type": "code",
   "execution_count": 11,
   "id": "cef5cbd4",
   "metadata": {},
   "outputs": [],
   "source": [
    "def relu(x):\n",
    "    return np.maximum(0, x)\n",
    "\n",
    "def linear_activation(x):\n",
    "    return x"
   ]
  },
  {
   "cell_type": "code",
   "execution_count": 12,
   "id": "caf09f24",
   "metadata": {},
   "outputs": [
    {
     "name": "stdout",
     "output_type": "stream",
     "text": [
      "Epoch: 0, Loss: 1.0179234886225352\n",
      "Epoch: 100, Loss: 0.2819167230263506\n",
      "Epoch: 200, Loss: 0.5562049510221692\n",
      "Epoch: 300, Loss: 0.4361173206824843\n",
      "Epoch: 400, Loss: 0.4287666088905739\n",
      "Epoch: 500, Loss: 0.418925581861733\n",
      "Epoch: 600, Loss: 0.4083524803862203\n",
      "Epoch: 700, Loss: 0.39088049648870377\n",
      "Epoch: 800, Loss: 0.3754803006548158\n",
      "Epoch: 900, Loss: 0.36178321011696046\n"
     ]
    }
   ],
   "source": [
    "for epoch in range(epochs):\n",
    "    \n",
    "    hidden_layer_input = np.dot(X_train, weights_1) + biases_1\n",
    "    hidden_layer_output = relu(hidden_layer_input)\n",
    "    output_layer_input = np.dot(hidden_layer_output, weights_2) + biases_2\n",
    "    predicted_output = linear_activation(output_layer_input)\n",
    "\n",
    "    \n",
    "    loss = np.mean((predicted_output - y_train) ** 2)\n",
    "\n",
    "    \n",
    "    output_error = predicted_output - y_train\n",
    "    hidden_layer_error = np.dot(output_error, weights_2.T)\n",
    "    hidden_layer_error[hidden_layer_input <= 0] = 0  # ReLU derivative\n",
    "\n",
    "    \n",
    "    weights_2 -= learning_rate * np.dot(hidden_layer_output.T, output_error)\n",
    "    biases_2 -= learning_rate * np.sum(output_error, axis=0, keepdims=True)\n",
    "    weights_1 -= learning_rate * np.dot(X_train.T, hidden_layer_error)\n",
    "    biases_1 -= learning_rate * np.sum(hidden_layer_error, axis=0, keepdims=True)\n",
    "\n",
    "    \n",
    "    if epoch % 100 == 0:\n",
    "        print(f\"Epoch: {epoch}, Loss: {loss}\")"
   ]
  },
  {
   "cell_type": "code",
   "execution_count": 13,
   "id": "17058c57",
   "metadata": {},
   "outputs": [
    {
     "name": "stdout",
     "output_type": "stream",
     "text": [
      "Mean Squared Error on Test Set: 273027714890.55124\n"
     ]
    }
   ],
   "source": [
    "hidden_layer_test = relu(np.dot(X_test, weights_1) + biases_1)\n",
    "predicted_test = linear_activation(np.dot(hidden_layer_test, weights_2) + biases_2)\n",
    "\n",
    "predicted_test = (predicted_test * y_std) + y_mean\n",
    "\n",
    "\n",
    "mse = np.mean((predicted_test - data['Price'][split_index:].values) ** 2)\n",
    "print(f\"Mean Squared Error on Test Set: {mse}\")"
   ]
  },
  {
   "cell_type": "code",
   "execution_count": 16,
   "id": "7f3a47c0",
   "metadata": {},
   "outputs": [],
   "source": [
    "from sklearn.metrics import r2_score"
   ]
  },
  {
   "cell_type": "code",
   "execution_count": 18,
   "id": "b6eb6410",
   "metadata": {},
   "outputs": [
    {
     "name": "stdout",
     "output_type": "stream",
     "text": [
      "0.567402972344973\n"
     ]
    }
   ],
   "source": [
    "print(r2_score(predicted_test , data['Price'][split_index:].values))"
   ]
  },
  {
   "cell_type": "code",
   "execution_count": 19,
   "id": "13516fd8",
   "metadata": {},
   "outputs": [],
   "source": [
    "first_row = data.iloc[0]\n",
    "x = first_row[:-1]"
   ]
  },
  {
   "cell_type": "code",
   "execution_count": 20,
   "id": "318a82cd",
   "metadata": {},
   "outputs": [
    {
     "name": "stdout",
     "output_type": "stream",
     "text": [
      "Predicted Price for the Sample Input: 2318770.252699177\n"
     ]
    }
   ],
   "source": [
    "sample_input = np.array(x)\n",
    "\n",
    "\n",
    "sample_input_normalized = (sample_input - X_mean) / X_std\n",
    "\n",
    "\n",
    "hidden_layer_input_sample = np.dot(sample_input_normalized, weights_1) + biases_1\n",
    "hidden_layer_output_sample = relu(hidden_layer_input_sample)\n",
    "output_layer_input_sample = np.dot(hidden_layer_output_sample, weights_2) + biases_2\n",
    "predicted_price_sample = linear_activation(output_layer_input_sample)\n",
    "\n",
    "\n",
    "predicted_price_sample_denormalized = (predicted_price_sample * y_std) + y_mean\n",
    "\n",
    "print(\"Predicted Price for the Sample Input:\", predicted_price_sample_denormalized[0, 0])\n"
   ]
  }
 ],
 "metadata": {
  "kernelspec": {
   "display_name": "Python 3",
   "language": "python",
   "name": "python3"
  },
  "language_info": {
   "codemirror_mode": {
    "name": "ipython",
    "version": 3
   },
   "file_extension": ".py",
   "mimetype": "text/x-python",
   "name": "python",
   "nbconvert_exporter": "python",
   "pygments_lexer": "ipython3",
   "version": "3.7.6"
  }
 },
 "nbformat": 4,
 "nbformat_minor": 5
}
