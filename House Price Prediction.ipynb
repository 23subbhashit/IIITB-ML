{
 "cells": [
  {
   "cell_type": "code",
   "execution_count": 1,
   "id": "bae33c39",
   "metadata": {},
   "outputs": [],
   "source": [
    "import numpy as np\n",
    "import pandas as pd"
   ]
  },
  {
   "cell_type": "code",
   "execution_count": 2,
   "id": "012b10e0",
   "metadata": {},
   "outputs": [
    {
     "data": {
      "text/html": [
       "<div>\n",
       "<style scoped>\n",
       "    .dataframe tbody tr th:only-of-type {\n",
       "        vertical-align: middle;\n",
       "    }\n",
       "\n",
       "    .dataframe tbody tr th {\n",
       "        vertical-align: top;\n",
       "    }\n",
       "\n",
       "    .dataframe thead th {\n",
       "        text-align: right;\n",
       "    }\n",
       "</style>\n",
       "<table border=\"1\" class=\"dataframe\">\n",
       "  <thead>\n",
       "    <tr style=\"text-align: right;\">\n",
       "      <th></th>\n",
       "      <th>id</th>\n",
       "      <th>Date</th>\n",
       "      <th>number of bedrooms</th>\n",
       "      <th>number of bathrooms</th>\n",
       "      <th>living area</th>\n",
       "      <th>lot area</th>\n",
       "      <th>number of floors</th>\n",
       "      <th>waterfront present</th>\n",
       "      <th>number of views</th>\n",
       "      <th>condition of the house</th>\n",
       "      <th>...</th>\n",
       "      <th>Built Year</th>\n",
       "      <th>Renovation Year</th>\n",
       "      <th>Postal Code</th>\n",
       "      <th>Lattitude</th>\n",
       "      <th>Longitude</th>\n",
       "      <th>living_area_renov</th>\n",
       "      <th>lot_area_renov</th>\n",
       "      <th>Number of schools nearby</th>\n",
       "      <th>Distance from the airport</th>\n",
       "      <th>Price</th>\n",
       "    </tr>\n",
       "  </thead>\n",
       "  <tbody>\n",
       "    <tr>\n",
       "      <th>0</th>\n",
       "      <td>6762810145</td>\n",
       "      <td>42491</td>\n",
       "      <td>5</td>\n",
       "      <td>2.50</td>\n",
       "      <td>3650</td>\n",
       "      <td>9050</td>\n",
       "      <td>2.0</td>\n",
       "      <td>0</td>\n",
       "      <td>4</td>\n",
       "      <td>5</td>\n",
       "      <td>...</td>\n",
       "      <td>1921</td>\n",
       "      <td>0</td>\n",
       "      <td>122003</td>\n",
       "      <td>52.8645</td>\n",
       "      <td>-114.557</td>\n",
       "      <td>2880</td>\n",
       "      <td>5400</td>\n",
       "      <td>2</td>\n",
       "      <td>58</td>\n",
       "      <td>2380000</td>\n",
       "    </tr>\n",
       "    <tr>\n",
       "      <th>1</th>\n",
       "      <td>6762810635</td>\n",
       "      <td>42491</td>\n",
       "      <td>4</td>\n",
       "      <td>2.50</td>\n",
       "      <td>2920</td>\n",
       "      <td>4000</td>\n",
       "      <td>1.5</td>\n",
       "      <td>0</td>\n",
       "      <td>0</td>\n",
       "      <td>5</td>\n",
       "      <td>...</td>\n",
       "      <td>1909</td>\n",
       "      <td>0</td>\n",
       "      <td>122004</td>\n",
       "      <td>52.8878</td>\n",
       "      <td>-114.470</td>\n",
       "      <td>2470</td>\n",
       "      <td>4000</td>\n",
       "      <td>2</td>\n",
       "      <td>51</td>\n",
       "      <td>1400000</td>\n",
       "    </tr>\n",
       "    <tr>\n",
       "      <th>2</th>\n",
       "      <td>6762810998</td>\n",
       "      <td>42491</td>\n",
       "      <td>5</td>\n",
       "      <td>2.75</td>\n",
       "      <td>2910</td>\n",
       "      <td>9480</td>\n",
       "      <td>1.5</td>\n",
       "      <td>0</td>\n",
       "      <td>0</td>\n",
       "      <td>3</td>\n",
       "      <td>...</td>\n",
       "      <td>1939</td>\n",
       "      <td>0</td>\n",
       "      <td>122004</td>\n",
       "      <td>52.8852</td>\n",
       "      <td>-114.468</td>\n",
       "      <td>2940</td>\n",
       "      <td>6600</td>\n",
       "      <td>1</td>\n",
       "      <td>53</td>\n",
       "      <td>1200000</td>\n",
       "    </tr>\n",
       "    <tr>\n",
       "      <th>3</th>\n",
       "      <td>6762812605</td>\n",
       "      <td>42491</td>\n",
       "      <td>4</td>\n",
       "      <td>2.50</td>\n",
       "      <td>3310</td>\n",
       "      <td>42998</td>\n",
       "      <td>2.0</td>\n",
       "      <td>0</td>\n",
       "      <td>0</td>\n",
       "      <td>3</td>\n",
       "      <td>...</td>\n",
       "      <td>2001</td>\n",
       "      <td>0</td>\n",
       "      <td>122005</td>\n",
       "      <td>52.9532</td>\n",
       "      <td>-114.321</td>\n",
       "      <td>3350</td>\n",
       "      <td>42847</td>\n",
       "      <td>3</td>\n",
       "      <td>76</td>\n",
       "      <td>838000</td>\n",
       "    </tr>\n",
       "    <tr>\n",
       "      <th>4</th>\n",
       "      <td>6762812919</td>\n",
       "      <td>42491</td>\n",
       "      <td>3</td>\n",
       "      <td>2.00</td>\n",
       "      <td>2710</td>\n",
       "      <td>4500</td>\n",
       "      <td>1.5</td>\n",
       "      <td>0</td>\n",
       "      <td>0</td>\n",
       "      <td>4</td>\n",
       "      <td>...</td>\n",
       "      <td>1929</td>\n",
       "      <td>0</td>\n",
       "      <td>122006</td>\n",
       "      <td>52.9047</td>\n",
       "      <td>-114.485</td>\n",
       "      <td>2060</td>\n",
       "      <td>4500</td>\n",
       "      <td>1</td>\n",
       "      <td>51</td>\n",
       "      <td>805000</td>\n",
       "    </tr>\n",
       "  </tbody>\n",
       "</table>\n",
       "<p>5 rows × 23 columns</p>\n",
       "</div>"
      ],
      "text/plain": [
       "           id   Date  number of bedrooms  number of bathrooms  living area  \\\n",
       "0  6762810145  42491                   5                 2.50         3650   \n",
       "1  6762810635  42491                   4                 2.50         2920   \n",
       "2  6762810998  42491                   5                 2.75         2910   \n",
       "3  6762812605  42491                   4                 2.50         3310   \n",
       "4  6762812919  42491                   3                 2.00         2710   \n",
       "\n",
       "   lot area  number of floors  waterfront present  number of views  \\\n",
       "0      9050               2.0                   0                4   \n",
       "1      4000               1.5                   0                0   \n",
       "2      9480               1.5                   0                0   \n",
       "3     42998               2.0                   0                0   \n",
       "4      4500               1.5                   0                0   \n",
       "\n",
       "   condition of the house  ...  Built Year  Renovation Year  Postal Code  \\\n",
       "0                       5  ...        1921                0       122003   \n",
       "1                       5  ...        1909                0       122004   \n",
       "2                       3  ...        1939                0       122004   \n",
       "3                       3  ...        2001                0       122005   \n",
       "4                       4  ...        1929                0       122006   \n",
       "\n",
       "   Lattitude  Longitude  living_area_renov  lot_area_renov  \\\n",
       "0    52.8645   -114.557               2880            5400   \n",
       "1    52.8878   -114.470               2470            4000   \n",
       "2    52.8852   -114.468               2940            6600   \n",
       "3    52.9532   -114.321               3350           42847   \n",
       "4    52.9047   -114.485               2060            4500   \n",
       "\n",
       "   Number of schools nearby  Distance from the airport    Price  \n",
       "0                         2                         58  2380000  \n",
       "1                         2                         51  1400000  \n",
       "2                         1                         53  1200000  \n",
       "3                         3                         76   838000  \n",
       "4                         1                         51   805000  \n",
       "\n",
       "[5 rows x 23 columns]"
      ]
     },
     "execution_count": 2,
     "metadata": {},
     "output_type": "execute_result"
    }
   ],
   "source": [
    "data = pd.read_csv(\"C:/Users/Lenovo/Downloads/Assignment2_q2_dataset.csv\")\n",
    "data.head()"
   ]
  },
  {
   "cell_type": "code",
   "execution_count": 3,
   "id": "08b35bd5",
   "metadata": {},
   "outputs": [
    {
     "name": "stdout",
     "output_type": "stream",
     "text": [
      "<class 'pandas.core.frame.DataFrame'>\n",
      "RangeIndex: 14620 entries, 0 to 14619\n",
      "Data columns (total 23 columns):\n",
      " #   Column                                 Non-Null Count  Dtype  \n",
      "---  ------                                 --------------  -----  \n",
      " 0   id                                     14620 non-null  int64  \n",
      " 1   Date                                   14620 non-null  int64  \n",
      " 2   number of bedrooms                     14620 non-null  int64  \n",
      " 3   number of bathrooms                    14620 non-null  float64\n",
      " 4   living area                            14620 non-null  int64  \n",
      " 5   lot area                               14620 non-null  int64  \n",
      " 6   number of floors                       14620 non-null  float64\n",
      " 7   waterfront present                     14620 non-null  int64  \n",
      " 8   number of views                        14620 non-null  int64  \n",
      " 9   condition of the house                 14620 non-null  int64  \n",
      " 10  grade of the house                     14620 non-null  int64  \n",
      " 11  Area of the house(excluding basement)  14620 non-null  int64  \n",
      " 12  Area of the basement                   14620 non-null  int64  \n",
      " 13  Built Year                             14620 non-null  int64  \n",
      " 14  Renovation Year                        14620 non-null  int64  \n",
      " 15  Postal Code                            14620 non-null  int64  \n",
      " 16  Lattitude                              14620 non-null  float64\n",
      " 17  Longitude                              14620 non-null  float64\n",
      " 18  living_area_renov                      14620 non-null  int64  \n",
      " 19  lot_area_renov                         14620 non-null  int64  \n",
      " 20  Number of schools nearby               14620 non-null  int64  \n",
      " 21  Distance from the airport              14620 non-null  int64  \n",
      " 22  Price                                  14620 non-null  int64  \n",
      "dtypes: float64(4), int64(19)\n",
      "memory usage: 2.6 MB\n"
     ]
    }
   ],
   "source": [
    "data.info()"
   ]
  },
  {
   "cell_type": "code",
   "execution_count": 4,
   "id": "68163ef0",
   "metadata": {},
   "outputs": [],
   "source": [
    "data = data.drop(['id', 'Date'], axis=1)"
   ]
  },
  {
   "cell_type": "code",
   "execution_count": 5,
   "id": "a930abdc",
   "metadata": {},
   "outputs": [],
   "source": [
    "X = data.drop('Price', axis=1).values\n",
    "y = data['Price'].values.reshape(-1, 1)"
   ]
  },
  {
   "cell_type": "code",
   "execution_count": 6,
   "id": "f017921c",
   "metadata": {},
   "outputs": [],
   "source": [
    "X_mean, X_std = np.mean(X, axis=0), np.std(X, axis=0)\n",
    "X = (X - X_mean) / X_std"
   ]
  },
  {
   "cell_type": "code",
   "execution_count": 7,
   "id": "b9d1c4dc",
   "metadata": {},
   "outputs": [],
   "source": [
    "y_mean, y_std = np.mean(y), np.std(y)\n",
    "y = (y - y_mean) / y_std"
   ]
  },
  {
   "cell_type": "code",
   "execution_count": 8,
   "id": "87376efa",
   "metadata": {},
   "outputs": [],
   "source": [
    "split_ratio = 0.8\n",
    "split_index = int(split_ratio * len(X))\n",
    "\n",
    "X_train, X_test = X[:split_index], X[split_index:]\n",
    "y_train, y_test = y[:split_index], y[split_index:]"
   ]
  },
  {
   "cell_type": "code",
   "execution_count": 9,
   "id": "4ff61515",
   "metadata": {},
   "outputs": [],
   "source": [
    "input_size = X_train.shape[1]\n",
    "hidden_size = 32\n",
    "output_size = 1\n",
    "learning_rate = 0.0001\n",
    "epochs = 1000"
   ]
  },
  {
   "cell_type": "code",
   "execution_count": 10,
   "id": "957179d5",
   "metadata": {},
   "outputs": [],
   "source": [
    "weights_1 = np.random.randn(input_size, hidden_size) * 0.01\n",
    "biases_1 = np.zeros((1, hidden_size))\n",
    "weights_2 = np.random.randn(hidden_size, output_size) * 0.01\n",
    "biases_2 = np.zeros((1, output_size))"
   ]
  },
  {
   "cell_type": "code",
   "execution_count": 11,
   "id": "9a4de9db",
   "metadata": {},
   "outputs": [],
   "source": [
    "def relu(x):\n",
    "    return np.maximum(0, x)\n",
    "\n",
    "def linear_activation(x):\n",
    "    return x"
   ]
  },
  {
   "cell_type": "code",
   "execution_count": 12,
   "id": "01cf71a1",
   "metadata": {},
   "outputs": [
    {
     "name": "stdout",
     "output_type": "stream",
     "text": [
      "Epoch: 0, Loss: 1.0170114839846125\n",
      "Epoch: 100, Loss: 0.942734143556738\n",
      "Epoch: 200, Loss: 0.32622428823519256\n",
      "Epoch: 300, Loss: 0.44450730914590253\n",
      "Epoch: 400, Loss: 0.4364215851433712\n",
      "Epoch: 500, Loss: 0.4323365373618606\n",
      "Epoch: 600, Loss: 0.4271392472677736\n",
      "Epoch: 700, Loss: 0.41812221281325024\n",
      "Epoch: 800, Loss: 0.401035160562391\n",
      "Epoch: 900, Loss: 0.39121389141824503\n"
     ]
    }
   ],
   "source": [
    "for epoch in range(epochs):\n",
    "    \n",
    "    hidden_layer_input = np.dot(X_train, weights_1) + biases_1\n",
    "    hidden_layer_output = relu(hidden_layer_input)\n",
    "    output_layer_input = np.dot(hidden_layer_output, weights_2) + biases_2\n",
    "    predicted_output = linear_activation(output_layer_input)\n",
    "\n",
    "    \n",
    "    loss = np.mean((predicted_output - y_train) ** 2)\n",
    "\n",
    "    \n",
    "    output_error = predicted_output - y_train\n",
    "    hidden_layer_error = np.dot(output_error, weights_2.T)\n",
    "    hidden_layer_error[hidden_layer_input <= 0] = 0  # ReLU derivative\n",
    "\n",
    "    \n",
    "    weights_2 -= learning_rate * np.dot(hidden_layer_output.T, output_error)\n",
    "    biases_2 -= learning_rate * np.sum(output_error, axis=0, keepdims=True)\n",
    "    weights_1 -= learning_rate * np.dot(X_train.T, hidden_layer_error)\n",
    "    biases_1 -= learning_rate * np.sum(hidden_layer_error, axis=0, keepdims=True)\n",
    "\n",
    "    \n",
    "    if epoch % 100 == 0:\n",
    "        print(f\"Epoch: {epoch}, Loss: {loss}\")"
   ]
  },
  {
   "cell_type": "code",
   "execution_count": 13,
   "id": "5e69822e",
   "metadata": {},
   "outputs": [
    {
     "name": "stdout",
     "output_type": "stream",
     "text": [
      "Mean Squared Error on Test Set: 276237405218.0545\n"
     ]
    }
   ],
   "source": [
    "hidden_layer_test = relu(np.dot(X_test, weights_1) + biases_1)\n",
    "predicted_test = linear_activation(np.dot(hidden_layer_test, weights_2) + biases_2)\n",
    "\n",
    "predicted_test = (predicted_test * y_std) + y_mean\n",
    "\n",
    "\n",
    "mse = np.mean((predicted_test - data['Price'][split_index:].values) ** 2)\n",
    "print(f\"Mean Squared Error on Test Set: {mse}\")"
   ]
  },
  {
   "cell_type": "code",
   "execution_count": 14,
   "id": "9f9c747f",
   "metadata": {},
   "outputs": [],
   "source": [
    "from sklearn.metrics import r2_score"
   ]
  },
  {
   "cell_type": "code",
   "execution_count": 15,
   "id": "a1cd213d",
   "metadata": {},
   "outputs": [
    {
     "name": "stdout",
     "output_type": "stream",
     "text": [
      "0.5574478201465385\n"
     ]
    }
   ],
   "source": [
    "print(r2_score(predicted_test , data['Price'][split_index:].values))"
   ]
  },
  {
   "cell_type": "code",
   "execution_count": 16,
   "id": "b0aa28be",
   "metadata": {},
   "outputs": [],
   "source": [
    "first_row = data.iloc[0]\n",
    "x = first_row[:-1]"
   ]
  },
  {
   "cell_type": "code",
   "execution_count": 18,
   "id": "b2faba8d",
   "metadata": {},
   "outputs": [
    {
     "name": "stdout",
     "output_type": "stream",
     "text": [
      "Predicted Price for the Sample Input: 2279187.301355173\n"
     ]
    }
   ],
   "source": [
    "sample_input = np.array(x)\n",
    "\n",
    "\n",
    "sample_input_normalized = (sample_input - X_mean) / X_std\n",
    "\n",
    "\n",
    "hidden_layer_input_sample = np.dot(sample_input_normalized, weights_1) + biases_1\n",
    "hidden_layer_output_sample = relu(hidden_layer_input_sample)\n",
    "output_layer_input_sample = np.dot(hidden_layer_output_sample, weights_2) + biases_2\n",
    "predicted_price_sample = linear_activation(output_layer_input_sample)\n",
    "\n",
    "\n",
    "predicted_price_sample_denormalized = (predicted_price_sample * y_std) + y_mean\n",
    "\n",
    "print(\"Predicted Price for the Sample Input:\", predicted_price_sample_denormalized[0, 0])\n"
   ]
  }
 ],
 "metadata": {
  "kernelspec": {
   "display_name": "Python 3",
   "language": "python",
   "name": "python3"
  },
  "language_info": {
   "codemirror_mode": {
    "name": "ipython",
    "version": 3
   },
   "file_extension": ".py",
   "mimetype": "text/x-python",
   "name": "python",
   "nbconvert_exporter": "python",
   "pygments_lexer": "ipython3",
   "version": "3.7.6"
  }
 },
 "nbformat": 4,
 "nbformat_minor": 5
}
