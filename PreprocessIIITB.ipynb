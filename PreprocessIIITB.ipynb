{
  "nbformat": 4,
  "nbformat_minor": 0,
  "metadata": {
    "colab": {
      "provenance": [],
      "mount_file_id": "1p19YzAD3bXjYGMtD2xdrgwVXndZpGbdz",
      "authorship_tag": "ABX9TyOW6/vPifPLEAcBOKpV5KNP",
      "include_colab_link": true
    },
    "kernelspec": {
      "name": "python3",
      "display_name": "Python 3"
    },
    "language_info": {
      "name": "python"
    }
  },
  "cells": [
    {
      "cell_type": "markdown",
      "metadata": {
        "id": "view-in-github",
        "colab_type": "text"
      },
      "source": [
        "<a href=\"https://colab.research.google.com/github/23subbhashit/IIITB-ML/blob/main/PreprocessIIITB.ipynb\" target=\"_parent\"><img src=\"https://colab.research.google.com/assets/colab-badge.svg\" alt=\"Open In Colab\"/></a>"
      ]
    },
    {
      "cell_type": "code",
      "execution_count": 18,
      "metadata": {
        "id": "Wa0gNnblh_dw",
        "colab": {
          "base_uri": "https://localhost:8080/"
        },
        "outputId": "812b89ef-be6d-4f36-8937-f4ac458150c6"
      },
      "outputs": [
        {
          "output_type": "stream",
          "name": "stdout",
          "text": [
            "Drive already mounted at /content/drive; to attempt to forcibly remount, call drive.mount(\"/content/drive\", force_remount=True).\n"
          ]
        }
      ],
      "source": [
        "from google.colab import drive\n",
        "drive.mount('/content/drive')"
      ]
    },
    {
      "cell_type": "code",
      "source": [
        "import pandas as pd\n",
        "\n",
        "df = pd.read_csv('/content/drive/MyDrive/ML IIITB/train.csv')\n",
        "df = df.dropna(subset=['rating', 'review_text'])"
      ],
      "metadata": {
        "id": "y_UlmTFtiNaW"
      },
      "execution_count": 19,
      "outputs": []
    },
    {
      "cell_type": "code",
      "source": [
        "df.head()"
      ],
      "metadata": {
        "id": "RC0SmqWokgyL",
        "colab": {
          "base_uri": "https://localhost:8080/",
          "height": 573
        },
        "outputId": "b4af0fff-0fe8-4be0-9caa-02fa1c0ab4ad"
      },
      "execution_count": 20,
      "outputs": [
        {
          "output_type": "execute_result",
          "data": {
            "text/plain": [
              "                            user_id   book_id  \\\n",
              "0  1c845473e18c23f917126cb29bc8d243   6547260   \n",
              "1  0867fa7e18da1a292d0256fad0ee4e31  17201095   \n",
              "2  a57237ef712461148672852d8f47e300  16143347   \n",
              "3  80589c77f4fa826eaaf7c5d71ff3b81e   7863423   \n",
              "4  916977f433fbf96ae9de9669f8aec040  17262303   \n",
              "\n",
              "                          review_id  \\\n",
              "0  5805e560deacf886537b2e76b2653515   \n",
              "1  84c2e89581004bedd01dea2833bed181   \n",
              "2  956d4ea003698d83c1495cc251be5bc0   \n",
              "3  e5ed7e0401cbe5c44e7b7ee4e1af4f09   \n",
              "4  51b4449f83ff8c9d13a3b6aa2df4fb27   \n",
              "\n",
              "                                         review_text  \\\n",
              "0  I finished this in two days. THIS SERIES IS JU...   \n",
              "1  Review to follow \\n Goodreads 4 \\n Amazon 5 \\n...   \n",
              "2  I will have a full review up eventually but fo...   \n",
              "3  4 stars. Aww! I loved this one! I have read th...   \n",
              "4    this is official: Patrick Ness is my fav author   \n",
              "\n",
              "                       date_added                    date_updated  \\\n",
              "0  Sat Nov 16 00:26:42 -0800 2013  Mon Jan 26 11:14:39 -0800 2015   \n",
              "1  Wed Jan 02 11:22:44 -0800 2013  Sun Apr 28 20:23:22 -0700 2013   \n",
              "2  Thu Jun 19 15:48:04 -0700 2014  Thu May 05 09:09:58 -0700 2016   \n",
              "3  Wed Sep 16 18:52:06 -0700 2015  Sun Sep 20 18:34:34 -0700 2015   \n",
              "4  Sun Oct 13 11:47:17 -0700 2013  Mon Sep 15 17:51:03 -0700 2014   \n",
              "\n",
              "                          read_at                      started_at  n_votes  \\\n",
              "0  Mon Jan 26 11:14:39 -0800 2015  Sat Jan 24 00:00:00 -0800 2015        0   \n",
              "1                             NaN                             NaN        0   \n",
              "2  Thu Jun 19 00:00:00 -0700 2014  Thu Jun 19 00:00:00 -0700 2014        0   \n",
              "3  Sun Sep 20 00:00:00 -0700 2015  Sat Sep 19 00:00:00 -0700 2015        1   \n",
              "4  Tue Sep 16 17:51:03 -0700 2014                             NaN        0   \n",
              "\n",
              "   n_comments  rating  \n",
              "0           0       5  \n",
              "1           0       5  \n",
              "2           0       5  \n",
              "3           0       4  \n",
              "4           0       5  "
            ],
            "text/html": [
              "\n",
              "  <div id=\"df-517cb71f-4671-45e6-9422-a4f7539afc4d\" class=\"colab-df-container\">\n",
              "    <div>\n",
              "<style scoped>\n",
              "    .dataframe tbody tr th:only-of-type {\n",
              "        vertical-align: middle;\n",
              "    }\n",
              "\n",
              "    .dataframe tbody tr th {\n",
              "        vertical-align: top;\n",
              "    }\n",
              "\n",
              "    .dataframe thead th {\n",
              "        text-align: right;\n",
              "    }\n",
              "</style>\n",
              "<table border=\"1\" class=\"dataframe\">\n",
              "  <thead>\n",
              "    <tr style=\"text-align: right;\">\n",
              "      <th></th>\n",
              "      <th>user_id</th>\n",
              "      <th>book_id</th>\n",
              "      <th>review_id</th>\n",
              "      <th>review_text</th>\n",
              "      <th>date_added</th>\n",
              "      <th>date_updated</th>\n",
              "      <th>read_at</th>\n",
              "      <th>started_at</th>\n",
              "      <th>n_votes</th>\n",
              "      <th>n_comments</th>\n",
              "      <th>rating</th>\n",
              "    </tr>\n",
              "  </thead>\n",
              "  <tbody>\n",
              "    <tr>\n",
              "      <th>0</th>\n",
              "      <td>1c845473e18c23f917126cb29bc8d243</td>\n",
              "      <td>6547260</td>\n",
              "      <td>5805e560deacf886537b2e76b2653515</td>\n",
              "      <td>I finished this in two days. THIS SERIES IS JU...</td>\n",
              "      <td>Sat Nov 16 00:26:42 -0800 2013</td>\n",
              "      <td>Mon Jan 26 11:14:39 -0800 2015</td>\n",
              "      <td>Mon Jan 26 11:14:39 -0800 2015</td>\n",
              "      <td>Sat Jan 24 00:00:00 -0800 2015</td>\n",
              "      <td>0</td>\n",
              "      <td>0</td>\n",
              "      <td>5</td>\n",
              "    </tr>\n",
              "    <tr>\n",
              "      <th>1</th>\n",
              "      <td>0867fa7e18da1a292d0256fad0ee4e31</td>\n",
              "      <td>17201095</td>\n",
              "      <td>84c2e89581004bedd01dea2833bed181</td>\n",
              "      <td>Review to follow \\n Goodreads 4 \\n Amazon 5 \\n...</td>\n",
              "      <td>Wed Jan 02 11:22:44 -0800 2013</td>\n",
              "      <td>Sun Apr 28 20:23:22 -0700 2013</td>\n",
              "      <td>NaN</td>\n",
              "      <td>NaN</td>\n",
              "      <td>0</td>\n",
              "      <td>0</td>\n",
              "      <td>5</td>\n",
              "    </tr>\n",
              "    <tr>\n",
              "      <th>2</th>\n",
              "      <td>a57237ef712461148672852d8f47e300</td>\n",
              "      <td>16143347</td>\n",
              "      <td>956d4ea003698d83c1495cc251be5bc0</td>\n",
              "      <td>I will have a full review up eventually but fo...</td>\n",
              "      <td>Thu Jun 19 15:48:04 -0700 2014</td>\n",
              "      <td>Thu May 05 09:09:58 -0700 2016</td>\n",
              "      <td>Thu Jun 19 00:00:00 -0700 2014</td>\n",
              "      <td>Thu Jun 19 00:00:00 -0700 2014</td>\n",
              "      <td>0</td>\n",
              "      <td>0</td>\n",
              "      <td>5</td>\n",
              "    </tr>\n",
              "    <tr>\n",
              "      <th>3</th>\n",
              "      <td>80589c77f4fa826eaaf7c5d71ff3b81e</td>\n",
              "      <td>7863423</td>\n",
              "      <td>e5ed7e0401cbe5c44e7b7ee4e1af4f09</td>\n",
              "      <td>4 stars. Aww! I loved this one! I have read th...</td>\n",
              "      <td>Wed Sep 16 18:52:06 -0700 2015</td>\n",
              "      <td>Sun Sep 20 18:34:34 -0700 2015</td>\n",
              "      <td>Sun Sep 20 00:00:00 -0700 2015</td>\n",
              "      <td>Sat Sep 19 00:00:00 -0700 2015</td>\n",
              "      <td>1</td>\n",
              "      <td>0</td>\n",
              "      <td>4</td>\n",
              "    </tr>\n",
              "    <tr>\n",
              "      <th>4</th>\n",
              "      <td>916977f433fbf96ae9de9669f8aec040</td>\n",
              "      <td>17262303</td>\n",
              "      <td>51b4449f83ff8c9d13a3b6aa2df4fb27</td>\n",
              "      <td>this is official: Patrick Ness is my fav author</td>\n",
              "      <td>Sun Oct 13 11:47:17 -0700 2013</td>\n",
              "      <td>Mon Sep 15 17:51:03 -0700 2014</td>\n",
              "      <td>Tue Sep 16 17:51:03 -0700 2014</td>\n",
              "      <td>NaN</td>\n",
              "      <td>0</td>\n",
              "      <td>0</td>\n",
              "      <td>5</td>\n",
              "    </tr>\n",
              "  </tbody>\n",
              "</table>\n",
              "</div>\n",
              "    <div class=\"colab-df-buttons\">\n",
              "\n",
              "  <div class=\"colab-df-container\">\n",
              "    <button class=\"colab-df-convert\" onclick=\"convertToInteractive('df-517cb71f-4671-45e6-9422-a4f7539afc4d')\"\n",
              "            title=\"Convert this dataframe to an interactive table.\"\n",
              "            style=\"display:none;\">\n",
              "\n",
              "  <svg xmlns=\"http://www.w3.org/2000/svg\" height=\"24px\" viewBox=\"0 -960 960 960\">\n",
              "    <path d=\"M120-120v-720h720v720H120Zm60-500h600v-160H180v160Zm220 220h160v-160H400v160Zm0 220h160v-160H400v160ZM180-400h160v-160H180v160Zm440 0h160v-160H620v160ZM180-180h160v-160H180v160Zm440 0h160v-160H620v160Z\"/>\n",
              "  </svg>\n",
              "    </button>\n",
              "\n",
              "  <style>\n",
              "    .colab-df-container {\n",
              "      display:flex;\n",
              "      gap: 12px;\n",
              "    }\n",
              "\n",
              "    .colab-df-convert {\n",
              "      background-color: #E8F0FE;\n",
              "      border: none;\n",
              "      border-radius: 50%;\n",
              "      cursor: pointer;\n",
              "      display: none;\n",
              "      fill: #1967D2;\n",
              "      height: 32px;\n",
              "      padding: 0 0 0 0;\n",
              "      width: 32px;\n",
              "    }\n",
              "\n",
              "    .colab-df-convert:hover {\n",
              "      background-color: #E2EBFA;\n",
              "      box-shadow: 0px 1px 2px rgba(60, 64, 67, 0.3), 0px 1px 3px 1px rgba(60, 64, 67, 0.15);\n",
              "      fill: #174EA6;\n",
              "    }\n",
              "\n",
              "    .colab-df-buttons div {\n",
              "      margin-bottom: 4px;\n",
              "    }\n",
              "\n",
              "    [theme=dark] .colab-df-convert {\n",
              "      background-color: #3B4455;\n",
              "      fill: #D2E3FC;\n",
              "    }\n",
              "\n",
              "    [theme=dark] .colab-df-convert:hover {\n",
              "      background-color: #434B5C;\n",
              "      box-shadow: 0px 1px 3px 1px rgba(0, 0, 0, 0.15);\n",
              "      filter: drop-shadow(0px 1px 2px rgba(0, 0, 0, 0.3));\n",
              "      fill: #FFFFFF;\n",
              "    }\n",
              "  </style>\n",
              "\n",
              "    <script>\n",
              "      const buttonEl =\n",
              "        document.querySelector('#df-517cb71f-4671-45e6-9422-a4f7539afc4d button.colab-df-convert');\n",
              "      buttonEl.style.display =\n",
              "        google.colab.kernel.accessAllowed ? 'block' : 'none';\n",
              "\n",
              "      async function convertToInteractive(key) {\n",
              "        const element = document.querySelector('#df-517cb71f-4671-45e6-9422-a4f7539afc4d');\n",
              "        const dataTable =\n",
              "          await google.colab.kernel.invokeFunction('convertToInteractive',\n",
              "                                                    [key], {});\n",
              "        if (!dataTable) return;\n",
              "\n",
              "        const docLinkHtml = 'Like what you see? Visit the ' +\n",
              "          '<a target=\"_blank\" href=https://colab.research.google.com/notebooks/data_table.ipynb>data table notebook</a>'\n",
              "          + ' to learn more about interactive tables.';\n",
              "        element.innerHTML = '';\n",
              "        dataTable['output_type'] = 'display_data';\n",
              "        await google.colab.output.renderOutput(dataTable, element);\n",
              "        const docLink = document.createElement('div');\n",
              "        docLink.innerHTML = docLinkHtml;\n",
              "        element.appendChild(docLink);\n",
              "      }\n",
              "    </script>\n",
              "  </div>\n",
              "\n",
              "\n",
              "<div id=\"df-389a8443-4baf-4ffd-90ec-0ece02b1be1c\">\n",
              "  <button class=\"colab-df-quickchart\" onclick=\"quickchart('df-389a8443-4baf-4ffd-90ec-0ece02b1be1c')\"\n",
              "            title=\"Suggest charts\"\n",
              "            style=\"display:none;\">\n",
              "\n",
              "<svg xmlns=\"http://www.w3.org/2000/svg\" height=\"24px\"viewBox=\"0 0 24 24\"\n",
              "     width=\"24px\">\n",
              "    <g>\n",
              "        <path d=\"M19 3H5c-1.1 0-2 .9-2 2v14c0 1.1.9 2 2 2h14c1.1 0 2-.9 2-2V5c0-1.1-.9-2-2-2zM9 17H7v-7h2v7zm4 0h-2V7h2v10zm4 0h-2v-4h2v4z\"/>\n",
              "    </g>\n",
              "</svg>\n",
              "  </button>\n",
              "\n",
              "<style>\n",
              "  .colab-df-quickchart {\n",
              "      --bg-color: #E8F0FE;\n",
              "      --fill-color: #1967D2;\n",
              "      --hover-bg-color: #E2EBFA;\n",
              "      --hover-fill-color: #174EA6;\n",
              "      --disabled-fill-color: #AAA;\n",
              "      --disabled-bg-color: #DDD;\n",
              "  }\n",
              "\n",
              "  [theme=dark] .colab-df-quickchart {\n",
              "      --bg-color: #3B4455;\n",
              "      --fill-color: #D2E3FC;\n",
              "      --hover-bg-color: #434B5C;\n",
              "      --hover-fill-color: #FFFFFF;\n",
              "      --disabled-bg-color: #3B4455;\n",
              "      --disabled-fill-color: #666;\n",
              "  }\n",
              "\n",
              "  .colab-df-quickchart {\n",
              "    background-color: var(--bg-color);\n",
              "    border: none;\n",
              "    border-radius: 50%;\n",
              "    cursor: pointer;\n",
              "    display: none;\n",
              "    fill: var(--fill-color);\n",
              "    height: 32px;\n",
              "    padding: 0;\n",
              "    width: 32px;\n",
              "  }\n",
              "\n",
              "  .colab-df-quickchart:hover {\n",
              "    background-color: var(--hover-bg-color);\n",
              "    box-shadow: 0 1px 2px rgba(60, 64, 67, 0.3), 0 1px 3px 1px rgba(60, 64, 67, 0.15);\n",
              "    fill: var(--button-hover-fill-color);\n",
              "  }\n",
              "\n",
              "  .colab-df-quickchart-complete:disabled,\n",
              "  .colab-df-quickchart-complete:disabled:hover {\n",
              "    background-color: var(--disabled-bg-color);\n",
              "    fill: var(--disabled-fill-color);\n",
              "    box-shadow: none;\n",
              "  }\n",
              "\n",
              "  .colab-df-spinner {\n",
              "    border: 2px solid var(--fill-color);\n",
              "    border-color: transparent;\n",
              "    border-bottom-color: var(--fill-color);\n",
              "    animation:\n",
              "      spin 1s steps(1) infinite;\n",
              "  }\n",
              "\n",
              "  @keyframes spin {\n",
              "    0% {\n",
              "      border-color: transparent;\n",
              "      border-bottom-color: var(--fill-color);\n",
              "      border-left-color: var(--fill-color);\n",
              "    }\n",
              "    20% {\n",
              "      border-color: transparent;\n",
              "      border-left-color: var(--fill-color);\n",
              "      border-top-color: var(--fill-color);\n",
              "    }\n",
              "    30% {\n",
              "      border-color: transparent;\n",
              "      border-left-color: var(--fill-color);\n",
              "      border-top-color: var(--fill-color);\n",
              "      border-right-color: var(--fill-color);\n",
              "    }\n",
              "    40% {\n",
              "      border-color: transparent;\n",
              "      border-right-color: var(--fill-color);\n",
              "      border-top-color: var(--fill-color);\n",
              "    }\n",
              "    60% {\n",
              "      border-color: transparent;\n",
              "      border-right-color: var(--fill-color);\n",
              "    }\n",
              "    80% {\n",
              "      border-color: transparent;\n",
              "      border-right-color: var(--fill-color);\n",
              "      border-bottom-color: var(--fill-color);\n",
              "    }\n",
              "    90% {\n",
              "      border-color: transparent;\n",
              "      border-bottom-color: var(--fill-color);\n",
              "    }\n",
              "  }\n",
              "</style>\n",
              "\n",
              "  <script>\n",
              "    async function quickchart(key) {\n",
              "      const quickchartButtonEl =\n",
              "        document.querySelector('#' + key + ' button');\n",
              "      quickchartButtonEl.disabled = true;  // To prevent multiple clicks.\n",
              "      quickchartButtonEl.classList.add('colab-df-spinner');\n",
              "      try {\n",
              "        const charts = await google.colab.kernel.invokeFunction(\n",
              "            'suggestCharts', [key], {});\n",
              "      } catch (error) {\n",
              "        console.error('Error during call to suggestCharts:', error);\n",
              "      }\n",
              "      quickchartButtonEl.classList.remove('colab-df-spinner');\n",
              "      quickchartButtonEl.classList.add('colab-df-quickchart-complete');\n",
              "    }\n",
              "    (() => {\n",
              "      let quickchartButtonEl =\n",
              "        document.querySelector('#df-389a8443-4baf-4ffd-90ec-0ece02b1be1c button');\n",
              "      quickchartButtonEl.style.display =\n",
              "        google.colab.kernel.accessAllowed ? 'block' : 'none';\n",
              "    })();\n",
              "  </script>\n",
              "</div>\n",
              "    </div>\n",
              "  </div>\n"
            ]
          },
          "metadata": {},
          "execution_count": 20
        }
      ]
    },
    {
      "cell_type": "code",
      "source": [
        "df.info()"
      ],
      "metadata": {
        "id": "DYQHVg_a3Mkh",
        "colab": {
          "base_uri": "https://localhost:8080/"
        },
        "outputId": "103fae41-92e0-4242-e253-1390ee8f5bae"
      },
      "execution_count": 21,
      "outputs": [
        {
          "output_type": "stream",
          "name": "stdout",
          "text": [
            "<class 'pandas.core.frame.DataFrame'>\n",
            "RangeIndex: 630000 entries, 0 to 629999\n",
            "Data columns (total 11 columns):\n",
            " #   Column        Non-Null Count   Dtype \n",
            "---  ------        --------------   ----- \n",
            " 0   user_id       630000 non-null  object\n",
            " 1   book_id       630000 non-null  int64 \n",
            " 2   review_id     630000 non-null  object\n",
            " 3   review_text   630000 non-null  object\n",
            " 4   date_added    630000 non-null  object\n",
            " 5   date_updated  630000 non-null  object\n",
            " 6   read_at       565775 non-null  object\n",
            " 7   started_at    437963 non-null  object\n",
            " 8   n_votes       630000 non-null  int64 \n",
            " 9   n_comments    630000 non-null  int64 \n",
            " 10  rating        630000 non-null  int64 \n",
            "dtypes: int64(4), object(7)\n",
            "memory usage: 52.9+ MB\n"
          ]
        }
      ]
    },
    {
      "cell_type": "code",
      "source": [
        "df.rating.unique()"
      ],
      "metadata": {
        "colab": {
          "base_uri": "https://localhost:8080/"
        },
        "id": "gm_XdSJiAPVm",
        "outputId": "982f6328-21f1-4dce-f7ba-ffb5003672cc"
      },
      "execution_count": 22,
      "outputs": [
        {
          "output_type": "execute_result",
          "data": {
            "text/plain": [
              "array([5, 4, 3, 2, 1, 0])"
            ]
          },
          "metadata": {},
          "execution_count": 22
        }
      ]
    },
    {
      "cell_type": "code",
      "source": [
        "from bs4 import BeautifulSoup\n",
        "import unicodedata\n",
        "import re\n",
        "import string\n",
        "import nltk\n",
        "from nltk.corpus import stopwords\n",
        "from nltk.tokenize import word_tokenize\n",
        "from nltk.stem import WordNetLemmatizer\n",
        "from tqdm import tqdm\n",
        "from imblearn.over_sampling import RandomOverSampler\n",
        "import pandas as pd\n",
        "\n",
        "# Download NLTK resources\n",
        "nltk.download('punkt')\n",
        "nltk.download('stopwords')\n",
        "nltk.download('wordnet')\n",
        "nltk.download('averaged_perceptron_tagger')\n",
        "from nltk.corpus import wordnet\n",
        "\n",
        "# Load your DataFrame (replace this with your actual data loading code)\n",
        "# df = ...\n",
        "\n",
        "def preprocess_text(text):\n",
        "    # Convert to lowercase\n",
        "    text = text.lower()\n",
        "\n",
        "    # Remove HTML tags\n",
        "    text = BeautifulSoup(text, \"html.parser\").get_text()\n",
        "\n",
        "    # Remove numbers, punctuation, and special characters\n",
        "    text = re.sub(r'\\d+', '', text)\n",
        "    text = text.translate(str.maketrans('', '', string.punctuation))\n",
        "\n",
        "    # Tokenization (split the text into words)\n",
        "    words = word_tokenize(text)\n",
        "\n",
        "    # Remove stop words\n",
        "    stop_words = set(stopwords.words('english'))\n",
        "    words = [word for word in words if word not in stop_words]\n",
        "\n",
        "    # Lemmatization (using WordNet Lemmatizer)\n",
        "    lemmatizer = WordNetLemmatizer()\n",
        "    words = [lemmatizer.lemmatize(word) for word in words]\n",
        "\n",
        "    # Join the words back into a single string\n",
        "    processed_text = ' '.join(words)\n",
        "\n",
        "    return processed_text\n",
        "\n",
        "# Example usage with tqdm\n",
        "tqdm.pandas()\n",
        "\n",
        "# Apply the preprocess_text function to the 'review_text' column\n",
        "df['review_text'] = df['review_text'].progress_apply(preprocess_text)"
      ],
      "metadata": {
        "colab": {
          "base_uri": "https://localhost:8080/"
        },
        "id": "Bv3U9KldBsYo",
        "outputId": "3a3e4b12-420e-413b-d96b-60b872828195"
      },
      "execution_count": 24,
      "outputs": [
        {
          "output_type": "stream",
          "name": "stderr",
          "text": [
            "[nltk_data] Downloading package punkt to /root/nltk_data...\n",
            "[nltk_data]   Package punkt is already up-to-date!\n",
            "[nltk_data] Downloading package stopwords to /root/nltk_data...\n",
            "[nltk_data]   Package stopwords is already up-to-date!\n",
            "[nltk_data] Downloading package wordnet to /root/nltk_data...\n",
            "[nltk_data]   Package wordnet is already up-to-date!\n",
            "[nltk_data] Downloading package averaged_perceptron_tagger to\n",
            "[nltk_data]     /root/nltk_data...\n",
            "[nltk_data]   Package averaged_perceptron_tagger is already up-to-\n",
            "[nltk_data]       date!\n",
            "  0%|          | 79/630000 [00:00<24:51, 422.46it/s]<ipython-input-24-70821b67db9c>:28: MarkupResemblesLocatorWarning: The input looks more like a filename than markup. You may want to open this file and pass the filehandle into Beautiful Soup.\n",
            "  text = BeautifulSoup(text, \"html.parser\").get_text()\n",
            "100%|██████████| 630000/630000 [19:02<00:00, 551.53it/s]\n"
          ]
        }
      ]
    },
    {
      "cell_type": "code",
      "source": [
        "# Downsample the majority class using RandomUnderSampler\n",
        "from imblearn.under_sampling import RandomUnderSampler\n",
        "\n",
        "\n",
        "ros = RandomOverSampler(random_state=42)\n",
        "X_resampled, y_resampled = ros.fit_resample(df[['review_text']], df['rating'])\n",
        "\n",
        "# Create a new DataFrame with the resampled data\n",
        "df_resampled = pd.DataFrame({'review_text': X_resampled['review_text'], 'rating': y_resampled})"
      ],
      "metadata": {
        "id": "9g669BEpCZAM"
      },
      "execution_count": 32,
      "outputs": []
    },
    {
      "cell_type": "code",
      "source": [
        "len(df_resampled)"
      ],
      "metadata": {
        "colab": {
          "base_uri": "https://localhost:8080/"
        },
        "id": "l_JgfmwSJ-Gr",
        "outputId": "6558b107-c84d-4166-8291-42a702b715a7"
      },
      "execution_count": 33,
      "outputs": [
        {
          "output_type": "execute_result",
          "data": {
            "text/plain": [
              "1317486"
            ]
          },
          "metadata": {},
          "execution_count": 33
        }
      ]
    },
    {
      "cell_type": "code",
      "source": [
        "from bs4 import BeautifulSoup\n",
        "import unicodedata\n",
        "import re\n",
        "import string\n",
        "import nltk\n",
        "from nltk.corpus import stopwords\n",
        "from nltk.tokenize import word_tokenize\n",
        "from nltk.stem import WordNetLemmatizer\n",
        "from tqdm import tqdm\n",
        "\n",
        "# Download NLTK resources\n",
        "nltk.download('punkt')\n",
        "nltk.download('stopwords')\n",
        "nltk.download('wordnet')\n",
        "\n",
        "# Additional imports\n",
        "nltk.download('averaged_perceptron_tagger')\n",
        "from nltk.corpus import wordnet\n",
        "\n",
        "def preprocess_text(text):\n",
        "    # Convert to lowercase\n",
        "    text = text.lower()\n",
        "\n",
        "    # Remove HTML tags\n",
        "    text = BeautifulSoup(text, \"html.parser\").get_text()\n",
        "\n",
        "    # Remove numbers, punctuation, and special characters\n",
        "    text = re.sub(r'\\d+', '', text)\n",
        "    text = text.translate(str.maketrans('', '', string.punctuation))\n",
        "\n",
        "    # Tokenization (split the text into words)\n",
        "    words = word_tokenize(text)\n",
        "\n",
        "    # Remove stop words\n",
        "    stop_words = set(stopwords.words('english'))\n",
        "    words = [word for word in words if word not in stop_words]\n",
        "\n",
        "    # Lemmatization (using WordNet Lemmatizer)\n",
        "    lemmatizer = WordNetLemmatizer()\n",
        "    words = [lemmatizer.lemmatize(word) for word in words]\n",
        "\n",
        "    # Join the words back into a single string\n",
        "    processed_text = ' '.join(words)\n",
        "\n",
        "    return processed_text\n",
        "\n",
        "# Example usage with tqdm\n",
        "tqdm.pandas()\n",
        "\n",
        "# Apply the preprocess_text function to the 'review_text' column\n",
        "df['review_text'] = df['review_text'].progress_apply(preprocess_text)\n"
      ],
      "metadata": {
        "colab": {
          "base_uri": "https://localhost:8080/"
        },
        "id": "gkoKuD_eZfaf",
        "outputId": "50235880-36b0-4e0b-9014-29d391e4f6d7"
      },
      "execution_count": null,
      "outputs": [
        {
          "output_type": "stream",
          "name": "stderr",
          "text": [
            "[nltk_data] Downloading package punkt to /root/nltk_data...\n",
            "[nltk_data]   Unzipping tokenizers/punkt.zip.\n",
            "[nltk_data] Downloading package stopwords to /root/nltk_data...\n",
            "[nltk_data]   Unzipping corpora/stopwords.zip.\n",
            "[nltk_data] Downloading package wordnet to /root/nltk_data...\n",
            "[nltk_data] Downloading package averaged_perceptron_tagger to\n",
            "[nltk_data]     /root/nltk_data...\n",
            "[nltk_data]   Package averaged_perceptron_tagger is already up-to-\n",
            "[nltk_data]       date!\n",
            "  0%|          | 55/630000 [00:01<3:39:06, 47.92it/s] <ipython-input-8-29baaf7b58bb>:25: MarkupResemblesLocatorWarning: The input looks more like a filename than markup. You may want to open this file and pass the filehandle into Beautiful Soup.\n",
            "  text = BeautifulSoup(text, \"html.parser\").get_text()\n",
            "100%|██████████| 630000/630000 [20:01<00:00, 524.47it/s]\n"
          ]
        }
      ]
    },
    {
      "cell_type": "code",
      "source": [],
      "metadata": {
        "id": "l8yEmYqzCW1a"
      },
      "execution_count": null,
      "outputs": []
    },
    {
      "cell_type": "code",
      "source": [
        "# import re\n",
        "# import string\n",
        "# import nltk\n",
        "# from nltk.corpus import stopwords\n",
        "# from nltk.tokenize import word_tokenize\n",
        "# from nltk.stem import WordNetLemmatizer\n",
        "# from tqdm import tqdm\n",
        "\n",
        "# # Download NLTK resources\n",
        "# nltk.download('punkt')\n",
        "# nltk.download('stopwords')\n",
        "# nltk.download('wordnet')\n",
        "\n",
        "# def preprocess_text(text):\n",
        "#     # Convert to lowercase\n",
        "#     text = text.lower()\n",
        "\n",
        "#     # Remove numbers, punctuation, and special characters\n",
        "#     text = re.sub(r'\\d+', '', text)\n",
        "#     text = text.translate(str.maketrans('', '', string.punctuation))\n",
        "\n",
        "#     # Tokenization (split the text into words)\n",
        "#     words = word_tokenize(text)\n",
        "\n",
        "#     # Remove stop words\n",
        "#     stop_words = set(stopwords.words('english'))\n",
        "#     words = [word for word in words if word not in stop_words]\n",
        "\n",
        "#     # Lemmatization (using WordNet Lemmatizer)\n",
        "#     lemmatizer = WordNetLemmatizer()\n",
        "#     words = [lemmatizer.lemmatize(word) for word in words]\n",
        "\n",
        "#     # Join the words back into a single string\n",
        "#     processed_text = ' '.join(words)\n",
        "\n",
        "#     return processed_text\n",
        "\n",
        "# # Example usage with tqdm\n",
        "# tqdm.pandas()\n",
        "# df['review_text'] = df['review_text'].progress_apply(preprocess_text)"
      ],
      "metadata": {
        "id": "PqrW5J4AkkHR",
        "colab": {
          "base_uri": "https://localhost:8080/"
        },
        "outputId": "43aa53ec-afc8-42a9-8603-3b2a869704e6"
      },
      "execution_count": null,
      "outputs": [
        {
          "output_type": "stream",
          "name": "stderr",
          "text": [
            "[nltk_data] Downloading package punkt to /root/nltk_data...\n",
            "[nltk_data]   Package punkt is already up-to-date!\n",
            "[nltk_data] Downloading package stopwords to /root/nltk_data...\n",
            "[nltk_data]   Package stopwords is already up-to-date!\n",
            "[nltk_data] Downloading package wordnet to /root/nltk_data...\n",
            "[nltk_data]   Package wordnet is already up-to-date!\n",
            "100%|██████████| 630000/630000 [18:19<00:00, 572.94it/s]\n"
          ]
        }
      ]
    },
    {
      "cell_type": "code",
      "source": [
        "df.info()"
      ],
      "metadata": {
        "id": "CiY1u1am4nlB",
        "colab": {
          "base_uri": "https://localhost:8080/"
        },
        "outputId": "7c2f6c36-4017-4142-e679-ca19d8d27935"
      },
      "execution_count": 13,
      "outputs": [
        {
          "output_type": "stream",
          "name": "stdout",
          "text": [
            "<class 'pandas.core.frame.DataFrame'>\n",
            "RangeIndex: 120618 entries, 0 to 120617\n",
            "Data columns (total 2 columns):\n",
            " #   Column       Non-Null Count   Dtype \n",
            "---  ------       --------------   ----- \n",
            " 0   review_text  120618 non-null  object\n",
            " 1   rating       120618 non-null  int64 \n",
            "dtypes: int64(1), object(1)\n",
            "memory usage: 1.8+ MB\n"
          ]
        }
      ]
    },
    {
      "cell_type": "code",
      "source": [
        "import pandas as pd\n",
        "from sklearn.model_selection import train_test_split\n",
        "from sklearn.feature_extraction.text import TfidfVectorizer\n",
        "from sklearn.metrics import accuracy_score\n",
        "import xgboost as xgb\n",
        "import nltk\n",
        "from nltk.corpus import stopwords\n",
        "from nltk.stem import PorterStemmer\n",
        "X_train, X_test, y_train, y_test = train_test_split(df_resampled['review_text'], df_resampled['rating'], test_size=0.2, random_state=42)\n",
        "\n",
        "\n",
        "vectorizer = TfidfVectorizer(\n",
        "    stop_words=stopwords.words('english'),\n",
        "    max_df=0.8,\n",
        "    min_df=5,\n",
        "    ngram_range=(1, 2),\n",
        "    max_features=5000\n",
        ")\n",
        "X_train_tfidf = vectorizer.fit_transform(X_train)\n",
        "X_test_tfidf = vectorizer.transform(X_test)"
      ],
      "metadata": {
        "id": "JbIF6vghSDFp"
      },
      "execution_count": 38,
      "outputs": []
    },
    {
      "cell_type": "code",
      "source": [
        "X_train_tfidf.shape[0]"
      ],
      "metadata": {
        "colab": {
          "base_uri": "https://localhost:8080/"
        },
        "id": "wLlz0kKBcpXZ",
        "outputId": "68c4c120-7a84-4abd-9c75-8535c01f6447"
      },
      "execution_count": 39,
      "outputs": [
        {
          "output_type": "execute_result",
          "data": {
            "text/plain": [
              "1053988"
            ]
          },
          "metadata": {},
          "execution_count": 39
        }
      ]
    },
    {
      "cell_type": "code",
      "source": [
        "y_train = y_train.astype(int)\n",
        "y_test = y_test.astype(int)"
      ],
      "metadata": {
        "id": "k48M8iKkSVi5"
      },
      "execution_count": 41,
      "outputs": []
    },
    {
      "cell_type": "markdown",
      "source": [
        "# Machine Learning"
      ],
      "metadata": {
        "id": "S-AQO-wQZ59r"
      }
    },
    {
      "cell_type": "code",
      "source": [
        "from sklearn.linear_model import LogisticRegression\n",
        "from sklearn.metrics import accuracy_score\n",
        "# Create and train the logistic regression model\n",
        "logreg_model = LogisticRegression(max_iter=100)\n",
        "logreg_model.fit(X_train_tfidf , y_train)\n",
        "\n",
        "# Make predictions on the test set\n",
        "y_pred = logreg_model.predict(X_test_tfidf)\n",
        "\n",
        "# Convert predictions to integer type\n",
        "y_pred = y_pred.astype(int)\n",
        "\n",
        "# Calculate accuracy\n",
        "accuracy = accuracy_score(y_test, y_pred)\n",
        "print(f\"Accuracy on the test set: {accuracy}\")"
      ],
      "metadata": {
        "id": "7n0JTuOGSZ5c",
        "colab": {
          "base_uri": "https://localhost:8080/"
        },
        "outputId": "7c7bf070-92ef-4b44-a4ea-1cb94fe0a273"
      },
      "execution_count": 42,
      "outputs": [
        {
          "output_type": "stream",
          "name": "stderr",
          "text": [
            "/usr/local/lib/python3.10/dist-packages/sklearn/linear_model/_logistic.py:458: ConvergenceWarning: lbfgs failed to converge (status=1):\n",
            "STOP: TOTAL NO. of ITERATIONS REACHED LIMIT.\n",
            "\n",
            "Increase the number of iterations (max_iter) or scale the data as shown in:\n",
            "    https://scikit-learn.org/stable/modules/preprocessing.html\n",
            "Please also refer to the documentation for alternative solver options:\n",
            "    https://scikit-learn.org/stable/modules/linear_model.html#logistic-regression\n",
            "  n_iter_i = _check_optimize_result(\n"
          ]
        },
        {
          "output_type": "stream",
          "name": "stdout",
          "text": [
            "Accuracy on the test set: 0.5267288556269877\n"
          ]
        }
      ]
    },
    {
      "cell_type": "code",
      "source": [
        "# df.to_csv('/content/drive/MyDrive/ML IIITB/preprocessed_data1.csv', index=False)"
      ],
      "metadata": {
        "id": "YqcpPldgk24K"
      },
      "execution_count": null,
      "outputs": []
    },
    {
      "cell_type": "code",
      "source": [
        "test_df = pd.read_csv('/content/drive/MyDrive/ML IIITB/test.csv')\n",
        "test_df = test_df.dropna(subset=['review_text'])\n",
        "test_df.head()"
      ],
      "metadata": {
        "id": "dzsbFqKrpac3",
        "colab": {
          "base_uri": "https://localhost:8080/",
          "height": 573
        },
        "outputId": "e20329f6-13b5-4197-f1d3-ffb0f5eb4c3d"
      },
      "execution_count": 43,
      "outputs": [
        {
          "output_type": "execute_result",
          "data": {
            "text/plain": [
              "                            user_id   book_id  \\\n",
              "0  de3a6a28c83cda006b415d45d64674c9      1618   \n",
              "1  d9cfab35a87e32084b1817dfb0e98748  15776309   \n",
              "2  24935a870a46525a37be92775ab18f76    478927   \n",
              "3  6ccb40eabdd0db7895aac00963256469     22628   \n",
              "4  9f9d0f6e9a6a5797a252ef81abc9421c  13596809   \n",
              "\n",
              "                          review_id  \\\n",
              "0  d76ce5becf493e5c653610edb806ffc4   \n",
              "1  9c5c9aed79255a1a610dfc153ee90ad6   \n",
              "2  ad26332459cda8f40581fef7a29b800c   \n",
              "3  5bb75768be7f2ddcd632336778b67f5a   \n",
              "4  3d7f76ea566b9ce0700772236094d936   \n",
              "\n",
              "                                         review_text  \\\n",
              "0  I'm going to keep this review short, because I...   \n",
              "1  You know, I was really stoked to see this come...   \n",
              "2  This is one of those books where you know you ...   \n",
              "3  The perks of being a wallflower \\n What does a...   \n",
              "4  So, I wrote a review for this when I read it b...   \n",
              "\n",
              "                       date_added                    date_updated  \\\n",
              "0  Tue Jun 09 10:37:48 -0700 2015  Wed Jun 10 13:43:38 -0700 2015   \n",
              "1  Mon Apr 22 09:19:40 -0700 2013  Wed Jul 10 14:34:27 -0700 2013   \n",
              "2  Sat Mar 14 12:16:55 -0700 2015  Sun Apr 05 11:25:00 -0700 2015   \n",
              "3  Sat Sep 12 08:43:30 -0700 2015  Sat Sep 12 09:19:29 -0700 2015   \n",
              "4  Sun Jul 14 19:36:13 -0700 2013  Thu Jun 02 16:45:45 -0700 2016   \n",
              "\n",
              "                          read_at                      started_at  n_votes  \\\n",
              "0  Wed Jun 10 14:08:39 -0700 2015  Tue Jun 09 00:00:00 -0700 2015        8   \n",
              "1  Wed Jul 10 14:34:27 -0700 2013  Tue Jul 09 00:00:00 -0700 2013        0   \n",
              "2  Wed Mar 18 00:00:00 -0700 2015  Sat Mar 14 00:00:00 -0700 2015       14   \n",
              "3                             NaN                             NaN        0   \n",
              "4  Sat Mar 23 00:00:00 -0700 2013                             NaN        0   \n",
              "\n",
              "   n_comments  \n",
              "0           0  \n",
              "1           0  \n",
              "2           0  \n",
              "3           0  \n",
              "4           0  "
            ],
            "text/html": [
              "\n",
              "  <div id=\"df-88597068-a69f-482b-9c72-da0e67dc79ed\" class=\"colab-df-container\">\n",
              "    <div>\n",
              "<style scoped>\n",
              "    .dataframe tbody tr th:only-of-type {\n",
              "        vertical-align: middle;\n",
              "    }\n",
              "\n",
              "    .dataframe tbody tr th {\n",
              "        vertical-align: top;\n",
              "    }\n",
              "\n",
              "    .dataframe thead th {\n",
              "        text-align: right;\n",
              "    }\n",
              "</style>\n",
              "<table border=\"1\" class=\"dataframe\">\n",
              "  <thead>\n",
              "    <tr style=\"text-align: right;\">\n",
              "      <th></th>\n",
              "      <th>user_id</th>\n",
              "      <th>book_id</th>\n",
              "      <th>review_id</th>\n",
              "      <th>review_text</th>\n",
              "      <th>date_added</th>\n",
              "      <th>date_updated</th>\n",
              "      <th>read_at</th>\n",
              "      <th>started_at</th>\n",
              "      <th>n_votes</th>\n",
              "      <th>n_comments</th>\n",
              "    </tr>\n",
              "  </thead>\n",
              "  <tbody>\n",
              "    <tr>\n",
              "      <th>0</th>\n",
              "      <td>de3a6a28c83cda006b415d45d64674c9</td>\n",
              "      <td>1618</td>\n",
              "      <td>d76ce5becf493e5c653610edb806ffc4</td>\n",
              "      <td>I'm going to keep this review short, because I...</td>\n",
              "      <td>Tue Jun 09 10:37:48 -0700 2015</td>\n",
              "      <td>Wed Jun 10 13:43:38 -0700 2015</td>\n",
              "      <td>Wed Jun 10 14:08:39 -0700 2015</td>\n",
              "      <td>Tue Jun 09 00:00:00 -0700 2015</td>\n",
              "      <td>8</td>\n",
              "      <td>0</td>\n",
              "    </tr>\n",
              "    <tr>\n",
              "      <th>1</th>\n",
              "      <td>d9cfab35a87e32084b1817dfb0e98748</td>\n",
              "      <td>15776309</td>\n",
              "      <td>9c5c9aed79255a1a610dfc153ee90ad6</td>\n",
              "      <td>You know, I was really stoked to see this come...</td>\n",
              "      <td>Mon Apr 22 09:19:40 -0700 2013</td>\n",
              "      <td>Wed Jul 10 14:34:27 -0700 2013</td>\n",
              "      <td>Wed Jul 10 14:34:27 -0700 2013</td>\n",
              "      <td>Tue Jul 09 00:00:00 -0700 2013</td>\n",
              "      <td>0</td>\n",
              "      <td>0</td>\n",
              "    </tr>\n",
              "    <tr>\n",
              "      <th>2</th>\n",
              "      <td>24935a870a46525a37be92775ab18f76</td>\n",
              "      <td>478927</td>\n",
              "      <td>ad26332459cda8f40581fef7a29b800c</td>\n",
              "      <td>This is one of those books where you know you ...</td>\n",
              "      <td>Sat Mar 14 12:16:55 -0700 2015</td>\n",
              "      <td>Sun Apr 05 11:25:00 -0700 2015</td>\n",
              "      <td>Wed Mar 18 00:00:00 -0700 2015</td>\n",
              "      <td>Sat Mar 14 00:00:00 -0700 2015</td>\n",
              "      <td>14</td>\n",
              "      <td>0</td>\n",
              "    </tr>\n",
              "    <tr>\n",
              "      <th>3</th>\n",
              "      <td>6ccb40eabdd0db7895aac00963256469</td>\n",
              "      <td>22628</td>\n",
              "      <td>5bb75768be7f2ddcd632336778b67f5a</td>\n",
              "      <td>The perks of being a wallflower \\n What does a...</td>\n",
              "      <td>Sat Sep 12 08:43:30 -0700 2015</td>\n",
              "      <td>Sat Sep 12 09:19:29 -0700 2015</td>\n",
              "      <td>NaN</td>\n",
              "      <td>NaN</td>\n",
              "      <td>0</td>\n",
              "      <td>0</td>\n",
              "    </tr>\n",
              "    <tr>\n",
              "      <th>4</th>\n",
              "      <td>9f9d0f6e9a6a5797a252ef81abc9421c</td>\n",
              "      <td>13596809</td>\n",
              "      <td>3d7f76ea566b9ce0700772236094d936</td>\n",
              "      <td>So, I wrote a review for this when I read it b...</td>\n",
              "      <td>Sun Jul 14 19:36:13 -0700 2013</td>\n",
              "      <td>Thu Jun 02 16:45:45 -0700 2016</td>\n",
              "      <td>Sat Mar 23 00:00:00 -0700 2013</td>\n",
              "      <td>NaN</td>\n",
              "      <td>0</td>\n",
              "      <td>0</td>\n",
              "    </tr>\n",
              "  </tbody>\n",
              "</table>\n",
              "</div>\n",
              "    <div class=\"colab-df-buttons\">\n",
              "\n",
              "  <div class=\"colab-df-container\">\n",
              "    <button class=\"colab-df-convert\" onclick=\"convertToInteractive('df-88597068-a69f-482b-9c72-da0e67dc79ed')\"\n",
              "            title=\"Convert this dataframe to an interactive table.\"\n",
              "            style=\"display:none;\">\n",
              "\n",
              "  <svg xmlns=\"http://www.w3.org/2000/svg\" height=\"24px\" viewBox=\"0 -960 960 960\">\n",
              "    <path d=\"M120-120v-720h720v720H120Zm60-500h600v-160H180v160Zm220 220h160v-160H400v160Zm0 220h160v-160H400v160ZM180-400h160v-160H180v160Zm440 0h160v-160H620v160ZM180-180h160v-160H180v160Zm440 0h160v-160H620v160Z\"/>\n",
              "  </svg>\n",
              "    </button>\n",
              "\n",
              "  <style>\n",
              "    .colab-df-container {\n",
              "      display:flex;\n",
              "      gap: 12px;\n",
              "    }\n",
              "\n",
              "    .colab-df-convert {\n",
              "      background-color: #E8F0FE;\n",
              "      border: none;\n",
              "      border-radius: 50%;\n",
              "      cursor: pointer;\n",
              "      display: none;\n",
              "      fill: #1967D2;\n",
              "      height: 32px;\n",
              "      padding: 0 0 0 0;\n",
              "      width: 32px;\n",
              "    }\n",
              "\n",
              "    .colab-df-convert:hover {\n",
              "      background-color: #E2EBFA;\n",
              "      box-shadow: 0px 1px 2px rgba(60, 64, 67, 0.3), 0px 1px 3px 1px rgba(60, 64, 67, 0.15);\n",
              "      fill: #174EA6;\n",
              "    }\n",
              "\n",
              "    .colab-df-buttons div {\n",
              "      margin-bottom: 4px;\n",
              "    }\n",
              "\n",
              "    [theme=dark] .colab-df-convert {\n",
              "      background-color: #3B4455;\n",
              "      fill: #D2E3FC;\n",
              "    }\n",
              "\n",
              "    [theme=dark] .colab-df-convert:hover {\n",
              "      background-color: #434B5C;\n",
              "      box-shadow: 0px 1px 3px 1px rgba(0, 0, 0, 0.15);\n",
              "      filter: drop-shadow(0px 1px 2px rgba(0, 0, 0, 0.3));\n",
              "      fill: #FFFFFF;\n",
              "    }\n",
              "  </style>\n",
              "\n",
              "    <script>\n",
              "      const buttonEl =\n",
              "        document.querySelector('#df-88597068-a69f-482b-9c72-da0e67dc79ed button.colab-df-convert');\n",
              "      buttonEl.style.display =\n",
              "        google.colab.kernel.accessAllowed ? 'block' : 'none';\n",
              "\n",
              "      async function convertToInteractive(key) {\n",
              "        const element = document.querySelector('#df-88597068-a69f-482b-9c72-da0e67dc79ed');\n",
              "        const dataTable =\n",
              "          await google.colab.kernel.invokeFunction('convertToInteractive',\n",
              "                                                    [key], {});\n",
              "        if (!dataTable) return;\n",
              "\n",
              "        const docLinkHtml = 'Like what you see? Visit the ' +\n",
              "          '<a target=\"_blank\" href=https://colab.research.google.com/notebooks/data_table.ipynb>data table notebook</a>'\n",
              "          + ' to learn more about interactive tables.';\n",
              "        element.innerHTML = '';\n",
              "        dataTable['output_type'] = 'display_data';\n",
              "        await google.colab.output.renderOutput(dataTable, element);\n",
              "        const docLink = document.createElement('div');\n",
              "        docLink.innerHTML = docLinkHtml;\n",
              "        element.appendChild(docLink);\n",
              "      }\n",
              "    </script>\n",
              "  </div>\n",
              "\n",
              "\n",
              "<div id=\"df-0f9aa698-6375-4531-ac7f-7646e8a70703\">\n",
              "  <button class=\"colab-df-quickchart\" onclick=\"quickchart('df-0f9aa698-6375-4531-ac7f-7646e8a70703')\"\n",
              "            title=\"Suggest charts\"\n",
              "            style=\"display:none;\">\n",
              "\n",
              "<svg xmlns=\"http://www.w3.org/2000/svg\" height=\"24px\"viewBox=\"0 0 24 24\"\n",
              "     width=\"24px\">\n",
              "    <g>\n",
              "        <path d=\"M19 3H5c-1.1 0-2 .9-2 2v14c0 1.1.9 2 2 2h14c1.1 0 2-.9 2-2V5c0-1.1-.9-2-2-2zM9 17H7v-7h2v7zm4 0h-2V7h2v10zm4 0h-2v-4h2v4z\"/>\n",
              "    </g>\n",
              "</svg>\n",
              "  </button>\n",
              "\n",
              "<style>\n",
              "  .colab-df-quickchart {\n",
              "      --bg-color: #E8F0FE;\n",
              "      --fill-color: #1967D2;\n",
              "      --hover-bg-color: #E2EBFA;\n",
              "      --hover-fill-color: #174EA6;\n",
              "      --disabled-fill-color: #AAA;\n",
              "      --disabled-bg-color: #DDD;\n",
              "  }\n",
              "\n",
              "  [theme=dark] .colab-df-quickchart {\n",
              "      --bg-color: #3B4455;\n",
              "      --fill-color: #D2E3FC;\n",
              "      --hover-bg-color: #434B5C;\n",
              "      --hover-fill-color: #FFFFFF;\n",
              "      --disabled-bg-color: #3B4455;\n",
              "      --disabled-fill-color: #666;\n",
              "  }\n",
              "\n",
              "  .colab-df-quickchart {\n",
              "    background-color: var(--bg-color);\n",
              "    border: none;\n",
              "    border-radius: 50%;\n",
              "    cursor: pointer;\n",
              "    display: none;\n",
              "    fill: var(--fill-color);\n",
              "    height: 32px;\n",
              "    padding: 0;\n",
              "    width: 32px;\n",
              "  }\n",
              "\n",
              "  .colab-df-quickchart:hover {\n",
              "    background-color: var(--hover-bg-color);\n",
              "    box-shadow: 0 1px 2px rgba(60, 64, 67, 0.3), 0 1px 3px 1px rgba(60, 64, 67, 0.15);\n",
              "    fill: var(--button-hover-fill-color);\n",
              "  }\n",
              "\n",
              "  .colab-df-quickchart-complete:disabled,\n",
              "  .colab-df-quickchart-complete:disabled:hover {\n",
              "    background-color: var(--disabled-bg-color);\n",
              "    fill: var(--disabled-fill-color);\n",
              "    box-shadow: none;\n",
              "  }\n",
              "\n",
              "  .colab-df-spinner {\n",
              "    border: 2px solid var(--fill-color);\n",
              "    border-color: transparent;\n",
              "    border-bottom-color: var(--fill-color);\n",
              "    animation:\n",
              "      spin 1s steps(1) infinite;\n",
              "  }\n",
              "\n",
              "  @keyframes spin {\n",
              "    0% {\n",
              "      border-color: transparent;\n",
              "      border-bottom-color: var(--fill-color);\n",
              "      border-left-color: var(--fill-color);\n",
              "    }\n",
              "    20% {\n",
              "      border-color: transparent;\n",
              "      border-left-color: var(--fill-color);\n",
              "      border-top-color: var(--fill-color);\n",
              "    }\n",
              "    30% {\n",
              "      border-color: transparent;\n",
              "      border-left-color: var(--fill-color);\n",
              "      border-top-color: var(--fill-color);\n",
              "      border-right-color: var(--fill-color);\n",
              "    }\n",
              "    40% {\n",
              "      border-color: transparent;\n",
              "      border-right-color: var(--fill-color);\n",
              "      border-top-color: var(--fill-color);\n",
              "    }\n",
              "    60% {\n",
              "      border-color: transparent;\n",
              "      border-right-color: var(--fill-color);\n",
              "    }\n",
              "    80% {\n",
              "      border-color: transparent;\n",
              "      border-right-color: var(--fill-color);\n",
              "      border-bottom-color: var(--fill-color);\n",
              "    }\n",
              "    90% {\n",
              "      border-color: transparent;\n",
              "      border-bottom-color: var(--fill-color);\n",
              "    }\n",
              "  }\n",
              "</style>\n",
              "\n",
              "  <script>\n",
              "    async function quickchart(key) {\n",
              "      const quickchartButtonEl =\n",
              "        document.querySelector('#' + key + ' button');\n",
              "      quickchartButtonEl.disabled = true;  // To prevent multiple clicks.\n",
              "      quickchartButtonEl.classList.add('colab-df-spinner');\n",
              "      try {\n",
              "        const charts = await google.colab.kernel.invokeFunction(\n",
              "            'suggestCharts', [key], {});\n",
              "      } catch (error) {\n",
              "        console.error('Error during call to suggestCharts:', error);\n",
              "      }\n",
              "      quickchartButtonEl.classList.remove('colab-df-spinner');\n",
              "      quickchartButtonEl.classList.add('colab-df-quickchart-complete');\n",
              "    }\n",
              "    (() => {\n",
              "      let quickchartButtonEl =\n",
              "        document.querySelector('#df-0f9aa698-6375-4531-ac7f-7646e8a70703 button');\n",
              "      quickchartButtonEl.style.display =\n",
              "        google.colab.kernel.accessAllowed ? 'block' : 'none';\n",
              "    })();\n",
              "  </script>\n",
              "</div>\n",
              "    </div>\n",
              "  </div>\n"
            ]
          },
          "metadata": {},
          "execution_count": 43
        }
      ]
    },
    {
      "cell_type": "code",
      "source": [
        "test_df.info()"
      ],
      "metadata": {
        "colab": {
          "base_uri": "https://localhost:8080/"
        },
        "id": "Yb59WMHz9KrK",
        "outputId": "7bb7361e-5722-4e65-e5f2-739e3829546d"
      },
      "execution_count": 44,
      "outputs": [
        {
          "output_type": "stream",
          "name": "stdout",
          "text": [
            "<class 'pandas.core.frame.DataFrame'>\n",
            "RangeIndex: 270000 entries, 0 to 269999\n",
            "Data columns (total 10 columns):\n",
            " #   Column        Non-Null Count   Dtype \n",
            "---  ------        --------------   ----- \n",
            " 0   user_id       270000 non-null  object\n",
            " 1   book_id       270000 non-null  int64 \n",
            " 2   review_id     270000 non-null  object\n",
            " 3   review_text   270000 non-null  object\n",
            " 4   date_added    270000 non-null  object\n",
            " 5   date_updated  270000 non-null  object\n",
            " 6   read_at       242459 non-null  object\n",
            " 7   started_at    187740 non-null  object\n",
            " 8   n_votes       270000 non-null  int64 \n",
            " 9   n_comments    270000 non-null  int64 \n",
            "dtypes: int64(3), object(7)\n",
            "memory usage: 20.6+ MB\n"
          ]
        }
      ]
    },
    {
      "cell_type": "code",
      "source": [
        "tqdm.pandas()\n",
        "test_df['review_text'] = test_df['review_text'].progress_apply(preprocess_text)"
      ],
      "metadata": {
        "colab": {
          "base_uri": "https://localhost:8080/"
        },
        "id": "VjdHS6xMpp4z",
        "outputId": "9772481d-4203-43f9-ae53-d8bc0b885641"
      },
      "execution_count": 45,
      "outputs": [
        {
          "output_type": "stream",
          "name": "stderr",
          "text": [
            "  0%|          | 58/270000 [00:00<16:28, 273.12it/s]<ipython-input-24-70821b67db9c>:28: MarkupResemblesLocatorWarning: The input looks more like a filename than markup. You may want to open this file and pass the filehandle into Beautiful Soup.\n",
            "  text = BeautifulSoup(text, \"html.parser\").get_text()\n",
            "100%|██████████| 270000/270000 [08:25<00:00, 534.59it/s]\n"
          ]
        }
      ]
    },
    {
      "cell_type": "code",
      "source": [
        "test_df.info()"
      ],
      "metadata": {
        "colab": {
          "base_uri": "https://localhost:8080/"
        },
        "id": "wAjssas49bor",
        "outputId": "fb63a502-af53-4311-aacf-b17617654908"
      },
      "execution_count": 46,
      "outputs": [
        {
          "output_type": "stream",
          "name": "stdout",
          "text": [
            "<class 'pandas.core.frame.DataFrame'>\n",
            "RangeIndex: 270000 entries, 0 to 269999\n",
            "Data columns (total 10 columns):\n",
            " #   Column        Non-Null Count   Dtype \n",
            "---  ------        --------------   ----- \n",
            " 0   user_id       270000 non-null  object\n",
            " 1   book_id       270000 non-null  int64 \n",
            " 2   review_id     270000 non-null  object\n",
            " 3   review_text   270000 non-null  object\n",
            " 4   date_added    270000 non-null  object\n",
            " 5   date_updated  270000 non-null  object\n",
            " 6   read_at       242459 non-null  object\n",
            " 7   started_at    187740 non-null  object\n",
            " 8   n_votes       270000 non-null  int64 \n",
            " 9   n_comments    270000 non-null  int64 \n",
            "dtypes: int64(3), object(7)\n",
            "memory usage: 20.6+ MB\n"
          ]
        }
      ]
    },
    {
      "cell_type": "code",
      "source": [
        "X_test_tfidf = vectorizer.transform(test_df['review_text'])"
      ],
      "metadata": {
        "id": "4UiGf6XcKfyN"
      },
      "execution_count": 47,
      "outputs": []
    },
    {
      "cell_type": "code",
      "source": [
        "y_pred_test = logreg_model.predict(X_test_tfidf )\n",
        "\n",
        "y_pred_test = y_pred_test.astype(int)"
      ],
      "metadata": {
        "id": "PUKZ5eSnUqdq"
      },
      "execution_count": 48,
      "outputs": []
    },
    {
      "cell_type": "code",
      "source": [
        "result_df = pd.DataFrame({\n",
        "    'review_id': test_df['review_id'],\n",
        "    'rating': y_pred_test\n",
        "})\n",
        "\n",
        "\n",
        "result_df.to_csv('/content/drive/MyDrive/ML IIITB/predic5.csv', index=False, columns=[\"review_id\", \"rating\"])"
      ],
      "metadata": {
        "id": "zc4-nWg7Uytf"
      },
      "execution_count": 49,
      "outputs": []
    },
    {
      "cell_type": "code",
      "source": [
        "test_df = pd.read_csv('/content/drive/MyDrive/ML IIITB/predic5.csv')"
      ],
      "metadata": {
        "id": "KHfogSEMWTKV"
      },
      "execution_count": 50,
      "outputs": []
    },
    {
      "cell_type": "code",
      "source": [
        "test_df.shape"
      ],
      "metadata": {
        "colab": {
          "base_uri": "https://localhost:8080/"
        },
        "id": "TnapnfJGXWnc",
        "outputId": "037757f5-e881-4af7-e3c0-f52beefbbf7a"
      },
      "execution_count": null,
      "outputs": [
        {
          "output_type": "execute_result",
          "data": {
            "text/plain": [
              "(270000, 2)"
            ]
          },
          "metadata": {},
          "execution_count": 23
        }
      ]
    },
    {
      "cell_type": "code",
      "source": [],
      "metadata": {
        "id": "kLzXnKxjq4Hw"
      },
      "execution_count": null,
      "outputs": []
    }
  ]
}